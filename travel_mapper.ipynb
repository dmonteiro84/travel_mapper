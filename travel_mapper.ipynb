{
 "cells": [
  {
   "cell_type": "markdown",
   "metadata": {},
   "source": [
    "# Travel Mapper Notebook\n",
    "\n",
    "My family and I did a world travel in 2021/22 and visited a couple of countries during that time. In this project, I want to visualize the airport locations we visited on an interactive map using Folium and show a time beam with the dates we arrived and departed from each airport. This allows users to easily see and explore where we traveled to and how long we stayed there. It can also easily be used to visualize any other location than airports only.\n",
    "\n",
    "## What I Do\n",
    "\n",
    "1. **Data Loading**: I load a CSV file (`locations.csv`) containing the airports and departure/arrival timestamps.\n",
    "2. **Geocoding Locations and Data Preparation**: I use the geopy library to geocode the locations of the airports and obtain their latitude and longitude coordinates. I merge the geocoded coordinates with the original DataFrame and export the augmented data to a new CSV file.\n",
    "3. **Map Creation, Adding Markers, and Display**: Using Folium, I create an interactive map centered on the mean location of the provided coordinates. I iterate through the travel locations and add markers to the map with popups displaying the location names. The popups are customized to be flexible in width to accommodate varying lengths of text. Finally, I display the interactive map with all the markers.\n",
    "4. **Creating and Displaying a Time Beam**: I use Plotly to create a time beam visualization that shows the duration of stays at various locations. The time beam provides an intuitive view of the travel timeline.\n",
    "\n",
    "## How It Works\n",
    "\n",
    "1. **Importing Libraries**: Import the necessary libraries, including Pandas for data handling, Folium for map visualization, and Plotly for creating interactive plots."
   ]
  },
  {
   "cell_type": "code",
   "execution_count": 63,
   "metadata": {},
   "outputs": [],
   "source": [
    "# Step 1: Import Libraries\n",
    "import pandas as pd\n",
    "from geopy.geocoders import Nominatim\n",
    "import time\n",
    "import folium\n",
    "import plotly.express as px\n",
    "from IPython.display import display\n",
    "import pytz"
   ]
  },
  {
   "cell_type": "markdown",
   "metadata": {},
   "source": [
    "2. **Loading Data**: Read the CSV file containing the travel locations into a DataFrame using Pandas."
   ]
  },
  {
   "cell_type": "code",
   "execution_count": 62,
   "metadata": {},
   "outputs": [
    {
     "data": {
      "text/html": [
       "<div>\n",
       "<style scoped>\n",
       "    .dataframe tbody tr th:only-of-type {\n",
       "        vertical-align: middle;\n",
       "    }\n",
       "\n",
       "    .dataframe tbody tr th {\n",
       "        vertical-align: top;\n",
       "    }\n",
       "\n",
       "    .dataframe thead th {\n",
       "        text-align: right;\n",
       "    }\n",
       "</style>\n",
       "<table border=\"1\" class=\"dataframe\">\n",
       "  <thead>\n",
       "    <tr style=\"text-align: right;\">\n",
       "      <th></th>\n",
       "      <th>departure_arrival</th>\n",
       "      <th>timestamp</th>\n",
       "      <th>location</th>\n",
       "    </tr>\n",
       "  </thead>\n",
       "  <tbody>\n",
       "    <tr>\n",
       "      <th>0</th>\n",
       "      <td>departure</td>\n",
       "      <td>08/09/2021  11:45:00 Europe/Berlin</td>\n",
       "      <td>Frankfurt Airport, Germany</td>\n",
       "    </tr>\n",
       "    <tr>\n",
       "      <th>1</th>\n",
       "      <td>arrival</td>\n",
       "      <td>08/09/2021  13:00:00 Europe/Amsterdam</td>\n",
       "      <td>Amsterdam Airport Schiphol, Netherlands</td>\n",
       "    </tr>\n",
       "    <tr>\n",
       "      <th>2</th>\n",
       "      <td>departure</td>\n",
       "      <td>08/10/2021  11:50:00 Europe/Amsterdam</td>\n",
       "      <td>Amsterdam Airport Schiphol, Netherlands</td>\n",
       "    </tr>\n",
       "    <tr>\n",
       "      <th>3</th>\n",
       "      <td>arrival</td>\n",
       "      <td>08/10/2021  17:30:00 America/Aruba</td>\n",
       "      <td>Reina Beatrix Airport, Aruba</td>\n",
       "    </tr>\n",
       "    <tr>\n",
       "      <th>4</th>\n",
       "      <td>departure</td>\n",
       "      <td>09/10/2021  13:30:00 America/Aruba</td>\n",
       "      <td>Reina Beatrix Airport, Aruba</td>\n",
       "    </tr>\n",
       "  </tbody>\n",
       "</table>\n",
       "</div>"
      ],
      "text/plain": [
       "  departure_arrival                              timestamp  \\\n",
       "0         departure     08/09/2021  11:45:00 Europe/Berlin   \n",
       "1           arrival  08/09/2021  13:00:00 Europe/Amsterdam   \n",
       "2         departure  08/10/2021  11:50:00 Europe/Amsterdam   \n",
       "3           arrival     08/10/2021  17:30:00 America/Aruba   \n",
       "4         departure     09/10/2021  13:30:00 America/Aruba   \n",
       "\n",
       "                                  location  \n",
       "0               Frankfurt Airport, Germany  \n",
       "1  Amsterdam Airport Schiphol, Netherlands  \n",
       "2  Amsterdam Airport Schiphol, Netherlands  \n",
       "3             Reina Beatrix Airport, Aruba  \n",
       "4             Reina Beatrix Airport, Aruba  "
      ]
     },
     "metadata": {},
     "output_type": "display_data"
    }
   ],
   "source": [
    "# Step 2: Read the CSV file\n",
    "df = pd.read_csv('data/locations.csv',sep=\";\")\n",
    "display(df.head())\n",
    "\n",
    "# Step 3: Extract list of unique locations\n",
    "locations = df.location.unique()"
   ]
  },
  {
   "cell_type": "markdown",
   "metadata": {},
   "source": [
    "3. **Geocoding Locations and Data Preparation**: Use the geopy library to geocode the locations and obtain their latitude and longitude coordinates. Merge the geocoded coordinates with the original DataFrame and export the augmented data to a new CSV file."
   ]
  },
  {
   "cell_type": "code",
   "execution_count": 3,
   "metadata": {},
   "outputs": [
    {
     "name": "stdout",
     "output_type": "stream",
     "text": [
      "Number of NaNs dropped: 0\n"
     ]
    }
   ],
   "source": [
    "# Step 3: Geocode locations using geopy\n",
    "# Initialize Nominatim geocoder with a unique user agent\n",
    "geolocator = Nominatim(user_agent=\"UseYourOwnUserAgentNameHere\")\n",
    "\n",
    "# Function to geocode location\n",
    "def geocode_location(location):\n",
    "    try:\n",
    "        location_obj = geolocator.geocode(location)\n",
    "        if location_obj:\n",
    "            return location_obj.latitude, location_obj.longitude\n",
    "        else:\n",
    "            return None, None\n",
    "    except Exception as e:\n",
    "        print(f\"Error geocoding {location}: {e}\")\n",
    "        return None, None\n",
    "\n",
    "# Function to get coordinates and add to DataFrame\n",
    "def get_coordinates(locations):\n",
    "    coordinates = [geocode_location(location) for location in locations]\n",
    "    df = pd.DataFrame({\n",
    "        'location': locations,\n",
    "        'latitude': [coord[0] for coord in coordinates],\n",
    "        'longitude': [coord[1] for coord in coordinates]\n",
    "    })\n",
    "\n",
    "    # Count the number of NaNs before dropping\n",
    "    nans_before = df['latitude'].isna().sum()\n",
    "\n",
    "    # Drop rows with NaN values in latitude or longitude\n",
    "    df.dropna(subset=['latitude', 'longitude'], inplace=True)\n",
    "\n",
    "    # Print the number of NaNs dropped\n",
    "    nans_after = df['latitude'].isna().sum()\n",
    "    print(f\"Number of NaNs dropped: {nans_before - nans_after}\")\n",
    "    \n",
    "    return df\n",
    "\n",
    "# Get coordinates for the list of locations\n",
    "coordinates = get_coordinates(locations)\n",
    "\n",
    "# Merge the coordinates DataFrame with the existing DataFrame\n",
    "df_coordinates = df.merge(coordinates, on='location', how='left')\n",
    "\n",
    "# Save the dataframe with coordinates to a CSV file\n",
    "df_coordinates.to_csv('data/locations_with_coordinates.csv', index=False)"
   ]
  },
  {
   "cell_type": "markdown",
   "metadata": {},
   "source": [
    "4. **Map Creation, Adding Markers, and Display**: Using Folium, create an interactive map centered on the mean location of the provided coordinates. Add markers to the map with popups displaying the location names, customized to be flexible in width. The interactive map is then displayed."
   ]
  },
  {
   "cell_type": "code",
   "execution_count": 58,
   "metadata": {},
   "outputs": [
    {
     "data": {
      "text/html": [
       "<div style=\"width:100%;\"><div style=\"position:relative;width:100%;height:0;padding-bottom:60%;\"><span style=\"color:#565656\">Make this Notebook Trusted to load map: File -> Trust Notebook</span><iframe srcdoc=\"&lt;!DOCTYPE html&gt;\n",
       "&lt;html&gt;\n",
       "&lt;head&gt;\n",
       "    \n",
       "    &lt;meta http-equiv=&quot;content-type&quot; content=&quot;text/html; charset=UTF-8&quot; /&gt;\n",
       "    \n",
       "        &lt;script&gt;\n",
       "            L_NO_TOUCH = false;\n",
       "            L_DISABLE_3D = false;\n",
       "        &lt;/script&gt;\n",
       "    \n",
       "    &lt;style&gt;html, body {width: 100%;height: 100%;margin: 0;padding: 0;}&lt;/style&gt;\n",
       "    &lt;style&gt;#map {position:absolute;top:0;bottom:0;right:0;left:0;}&lt;/style&gt;\n",
       "    &lt;script src=&quot;https://cdn.jsdelivr.net/npm/leaflet@1.9.3/dist/leaflet.js&quot;&gt;&lt;/script&gt;\n",
       "    &lt;script src=&quot;https://code.jquery.com/jquery-3.7.1.min.js&quot;&gt;&lt;/script&gt;\n",
       "    &lt;script src=&quot;https://cdn.jsdelivr.net/npm/bootstrap@5.2.2/dist/js/bootstrap.bundle.min.js&quot;&gt;&lt;/script&gt;\n",
       "    &lt;script src=&quot;https://cdnjs.cloudflare.com/ajax/libs/Leaflet.awesome-markers/2.0.2/leaflet.awesome-markers.js&quot;&gt;&lt;/script&gt;\n",
       "    &lt;link rel=&quot;stylesheet&quot; href=&quot;https://cdn.jsdelivr.net/npm/leaflet@1.9.3/dist/leaflet.css&quot;/&gt;\n",
       "    &lt;link rel=&quot;stylesheet&quot; href=&quot;https://cdn.jsdelivr.net/npm/bootstrap@5.2.2/dist/css/bootstrap.min.css&quot;/&gt;\n",
       "    &lt;link rel=&quot;stylesheet&quot; href=&quot;https://netdna.bootstrapcdn.com/bootstrap/3.0.0/css/bootstrap-glyphicons.css&quot;/&gt;\n",
       "    &lt;link rel=&quot;stylesheet&quot; href=&quot;https://cdn.jsdelivr.net/npm/@fortawesome/fontawesome-free@6.2.0/css/all.min.css&quot;/&gt;\n",
       "    &lt;link rel=&quot;stylesheet&quot; href=&quot;https://cdnjs.cloudflare.com/ajax/libs/Leaflet.awesome-markers/2.0.2/leaflet.awesome-markers.css&quot;/&gt;\n",
       "    &lt;link rel=&quot;stylesheet&quot; href=&quot;https://cdn.jsdelivr.net/gh/python-visualization/folium/folium/templates/leaflet.awesome.rotate.min.css&quot;/&gt;\n",
       "    \n",
       "            &lt;meta name=&quot;viewport&quot; content=&quot;width=device-width,\n",
       "                initial-scale=1.0, maximum-scale=1.0, user-scalable=no&quot; /&gt;\n",
       "            &lt;style&gt;\n",
       "                #map_6bb64da4ae3b82884053b42900f64d33 {\n",
       "                    position: relative;\n",
       "                    width: 100.0%;\n",
       "                    height: 100.0%;\n",
       "                    left: 0.0%;\n",
       "                    top: 0.0%;\n",
       "                }\n",
       "                .leaflet-container { font-size: 1rem; }\n",
       "            &lt;/style&gt;\n",
       "        \n",
       "&lt;/head&gt;\n",
       "&lt;body&gt;\n",
       "    \n",
       "    \n",
       "            &lt;div class=&quot;folium-map&quot; id=&quot;map_6bb64da4ae3b82884053b42900f64d33&quot; &gt;&lt;/div&gt;\n",
       "        \n",
       "&lt;/body&gt;\n",
       "&lt;script&gt;\n",
       "    \n",
       "    \n",
       "            var map_6bb64da4ae3b82884053b42900f64d33 = L.map(\n",
       "                &quot;map_6bb64da4ae3b82884053b42900f64d33&quot;,\n",
       "                {\n",
       "                    center: [22.870816584374996, -38.476298427682494],\n",
       "                    crs: L.CRS.EPSG3857,\n",
       "                    maxBounds: [[-90, -180], [90, 180]],\n",
       "                    zoom: 2,\n",
       "                    zoomControl: true,\n",
       "                    preferCanvas: true,\n",
       "                    noWrap: true,\n",
       "                }\n",
       "            );\n",
       "\n",
       "            \n",
       "\n",
       "        \n",
       "    \n",
       "            var tile_layer_40f38f1eb6efdbe7e24e326ba06f9de4 = L.tileLayer(\n",
       "                &quot;https://tile.openstreetmap.org/{z}/{x}/{y}.png&quot;,\n",
       "                {&quot;attribution&quot;: &quot;\\u0026copy; \\u003ca href=\\&quot;https://www.openstreetmap.org/copyright\\&quot;\\u003eOpenStreetMap\\u003c/a\\u003e contributors&quot;, &quot;detectRetina&quot;: false, &quot;maxNativeZoom&quot;: 19, &quot;maxZoom&quot;: 19, &quot;minZoom&quot;: 2, &quot;noWrap&quot;: false, &quot;opacity&quot;: 1, &quot;subdomains&quot;: &quot;abc&quot;, &quot;tms&quot;: false}\n",
       "            );\n",
       "        \n",
       "    \n",
       "            tile_layer_40f38f1eb6efdbe7e24e326ba06f9de4.addTo(map_6bb64da4ae3b82884053b42900f64d33);\n",
       "        \n",
       "    \n",
       "            var marker_dda982298d1c79d448400521afd8462c = L.marker(\n",
       "                [50.02294325, 8.524937254258731],\n",
       "                {}\n",
       "            ).addTo(map_6bb64da4ae3b82884053b42900f64d33);\n",
       "        \n",
       "    \n",
       "        var popup_7757664e4d44c3e33d7bca1d7afcda0d = L.popup({&quot;maxWidth&quot;: 300});\n",
       "\n",
       "        \n",
       "            \n",
       "                var html_f94ea8367d05b8f5b6faeff5384d1575 = $(`&lt;div id=&quot;html_f94ea8367d05b8f5b6faeff5384d1575&quot; style=&quot;width: 100.0%; height: 100.0%;&quot;&gt;     &lt;div style=&quot;min-width: 0px; max-width: 500px;&quot;&gt;         &lt;p&gt;Frankfurt Airport, Germany&lt;/p&gt;     &lt;/div&gt;     &lt;/div&gt;`)[0];\n",
       "                popup_7757664e4d44c3e33d7bca1d7afcda0d.setContent(html_f94ea8367d05b8f5b6faeff5384d1575);\n",
       "            \n",
       "        \n",
       "\n",
       "        marker_dda982298d1c79d448400521afd8462c.bindPopup(popup_7757664e4d44c3e33d7bca1d7afcda0d)\n",
       "        ;\n",
       "\n",
       "        \n",
       "    \n",
       "    \n",
       "            var marker_8adabc6a018511ce84a197325f786dfe = L.marker(\n",
       "                [52.32698005, 4.74150530038293],\n",
       "                {}\n",
       "            ).addTo(map_6bb64da4ae3b82884053b42900f64d33);\n",
       "        \n",
       "    \n",
       "        var popup_2800bf05dd4f3e3f579dc114f3eee246 = L.popup({&quot;maxWidth&quot;: 300});\n",
       "\n",
       "        \n",
       "            \n",
       "                var html_d5274e08c6b1b7541f97ed5dca2bc0cf = $(`&lt;div id=&quot;html_d5274e08c6b1b7541f97ed5dca2bc0cf&quot; style=&quot;width: 100.0%; height: 100.0%;&quot;&gt;     &lt;div style=&quot;min-width: 0px; max-width: 500px;&quot;&gt;         &lt;p&gt;Amsterdam Airport Schiphol, Netherlands&lt;/p&gt;     &lt;/div&gt;     &lt;/div&gt;`)[0];\n",
       "                popup_2800bf05dd4f3e3f579dc114f3eee246.setContent(html_d5274e08c6b1b7541f97ed5dca2bc0cf);\n",
       "            \n",
       "        \n",
       "\n",
       "        marker_8adabc6a018511ce84a197325f786dfe.bindPopup(popup_2800bf05dd4f3e3f579dc114f3eee246)\n",
       "        ;\n",
       "\n",
       "        \n",
       "    \n",
       "    \n",
       "            var marker_43c9253d047e8a084ddd04469d13bbad = L.marker(\n",
       "                [52.32698005, 4.74150530038293],\n",
       "                {}\n",
       "            ).addTo(map_6bb64da4ae3b82884053b42900f64d33);\n",
       "        \n",
       "    \n",
       "        var popup_352d8583693279868c0de94d48ac39c5 = L.popup({&quot;maxWidth&quot;: 300});\n",
       "\n",
       "        \n",
       "            \n",
       "                var html_3ff1a45ebcab2d108202d08cc56e17d5 = $(`&lt;div id=&quot;html_3ff1a45ebcab2d108202d08cc56e17d5&quot; style=&quot;width: 100.0%; height: 100.0%;&quot;&gt;     &lt;div style=&quot;min-width: 0px; max-width: 500px;&quot;&gt;         &lt;p&gt;Amsterdam Airport Schiphol, Netherlands&lt;/p&gt;     &lt;/div&gt;     &lt;/div&gt;`)[0];\n",
       "                popup_352d8583693279868c0de94d48ac39c5.setContent(html_3ff1a45ebcab2d108202d08cc56e17d5);\n",
       "            \n",
       "        \n",
       "\n",
       "        marker_43c9253d047e8a084ddd04469d13bbad.bindPopup(popup_352d8583693279868c0de94d48ac39c5)\n",
       "        ;\n",
       "\n",
       "        \n",
       "    \n",
       "    \n",
       "            var marker_ab32f486e8cfaa70902f5ca0017a776c = L.marker(\n",
       "                [12.50213495, -70.01412635032392],\n",
       "                {}\n",
       "            ).addTo(map_6bb64da4ae3b82884053b42900f64d33);\n",
       "        \n",
       "    \n",
       "        var popup_dc6b33fc6ef8b7cb35ebf8d6a99c4e3d = L.popup({&quot;maxWidth&quot;: 300});\n",
       "\n",
       "        \n",
       "            \n",
       "                var html_193b52717590900992e44450f30d354a = $(`&lt;div id=&quot;html_193b52717590900992e44450f30d354a&quot; style=&quot;width: 100.0%; height: 100.0%;&quot;&gt;     &lt;div style=&quot;min-width: 0px; max-width: 500px;&quot;&gt;         &lt;p&gt;Reina Beatrix Airport, Aruba&lt;/p&gt;     &lt;/div&gt;     &lt;/div&gt;`)[0];\n",
       "                popup_dc6b33fc6ef8b7cb35ebf8d6a99c4e3d.setContent(html_193b52717590900992e44450f30d354a);\n",
       "            \n",
       "        \n",
       "\n",
       "        marker_ab32f486e8cfaa70902f5ca0017a776c.bindPopup(popup_dc6b33fc6ef8b7cb35ebf8d6a99c4e3d)\n",
       "        ;\n",
       "\n",
       "        \n",
       "    \n",
       "    \n",
       "            var marker_872b5a60f921f9eba3b6dd5ca20e6206 = L.marker(\n",
       "                [12.50213495, -70.01412635032392],\n",
       "                {}\n",
       "            ).addTo(map_6bb64da4ae3b82884053b42900f64d33);\n",
       "        \n",
       "    \n",
       "        var popup_e12b88b5fe3d379f9fc20ddff9ee3aac = L.popup({&quot;maxWidth&quot;: 300});\n",
       "\n",
       "        \n",
       "            \n",
       "                var html_b7ae8c3d570132fa53775487ec4c5583 = $(`&lt;div id=&quot;html_b7ae8c3d570132fa53775487ec4c5583&quot; style=&quot;width: 100.0%; height: 100.0%;&quot;&gt;     &lt;div style=&quot;min-width: 0px; max-width: 500px;&quot;&gt;         &lt;p&gt;Reina Beatrix Airport, Aruba&lt;/p&gt;     &lt;/div&gt;     &lt;/div&gt;`)[0];\n",
       "                popup_e12b88b5fe3d379f9fc20ddff9ee3aac.setContent(html_b7ae8c3d570132fa53775487ec4c5583);\n",
       "            \n",
       "        \n",
       "\n",
       "        marker_872b5a60f921f9eba3b6dd5ca20e6206.bindPopup(popup_e12b88b5fe3d379f9fc20ddff9ee3aac)\n",
       "        ;\n",
       "\n",
       "        \n",
       "    \n",
       "    \n",
       "            var marker_533a2270a85d6902d78b3a5701c1991a = L.marker(\n",
       "                [40.642947899999996, -73.7793733748521],\n",
       "                {}\n",
       "            ).addTo(map_6bb64da4ae3b82884053b42900f64d33);\n",
       "        \n",
       "    \n",
       "        var popup_2cb413f55ce280fcf02ce161513884b0 = L.popup({&quot;maxWidth&quot;: 300});\n",
       "\n",
       "        \n",
       "            \n",
       "                var html_2c03e8833e794985a84920ce0d0a750d = $(`&lt;div id=&quot;html_2c03e8833e794985a84920ce0d0a750d&quot; style=&quot;width: 100.0%; height: 100.0%;&quot;&gt;     &lt;div style=&quot;min-width: 0px; max-width: 500px;&quot;&gt;         &lt;p&gt;JFK Airport, New York City, USA&lt;/p&gt;     &lt;/div&gt;     &lt;/div&gt;`)[0];\n",
       "                popup_2cb413f55ce280fcf02ce161513884b0.setContent(html_2c03e8833e794985a84920ce0d0a750d);\n",
       "            \n",
       "        \n",
       "\n",
       "        marker_533a2270a85d6902d78b3a5701c1991a.bindPopup(popup_2cb413f55ce280fcf02ce161513884b0)\n",
       "        ;\n",
       "\n",
       "        \n",
       "    \n",
       "    \n",
       "            var marker_40396c0991a6748477b7e3406c004fa5 = L.marker(\n",
       "                [40.7757145, -73.87336398511545],\n",
       "                {}\n",
       "            ).addTo(map_6bb64da4ae3b82884053b42900f64d33);\n",
       "        \n",
       "    \n",
       "        var popup_13faab3b54a90e0b30e2d6793ef9dce2 = L.popup({&quot;maxWidth&quot;: 300});\n",
       "\n",
       "        \n",
       "            \n",
       "                var html_473a51fe1fc611cd5c146b854fed077e = $(`&lt;div id=&quot;html_473a51fe1fc611cd5c146b854fed077e&quot; style=&quot;width: 100.0%; height: 100.0%;&quot;&gt;     &lt;div style=&quot;min-width: 0px; max-width: 500px;&quot;&gt;         &lt;p&gt;LaGuardia Airport, New York City, USA&lt;/p&gt;     &lt;/div&gt;     &lt;/div&gt;`)[0];\n",
       "                popup_13faab3b54a90e0b30e2d6793ef9dce2.setContent(html_473a51fe1fc611cd5c146b854fed077e);\n",
       "            \n",
       "        \n",
       "\n",
       "        marker_40396c0991a6748477b7e3406c004fa5.bindPopup(popup_13faab3b54a90e0b30e2d6793ef9dce2)\n",
       "        ;\n",
       "\n",
       "        \n",
       "    \n",
       "    \n",
       "            var marker_cfee0aaa45ee5e8f8d02c5a627f7251f = L.marker(\n",
       "                [45.4687293, -73.74249704278634],\n",
       "                {}\n",
       "            ).addTo(map_6bb64da4ae3b82884053b42900f64d33);\n",
       "        \n",
       "    \n",
       "        var popup_8378582f8e0a26f446cbaf7d037538c9 = L.popup({&quot;maxWidth&quot;: 300});\n",
       "\n",
       "        \n",
       "            \n",
       "                var html_a7d47e0d9eb9ba65eebe73a69e93d1e3 = $(`&lt;div id=&quot;html_a7d47e0d9eb9ba65eebe73a69e93d1e3&quot; style=&quot;width: 100.0%; height: 100.0%;&quot;&gt;     &lt;div style=&quot;min-width: 0px; max-width: 500px;&quot;&gt;         &lt;p&gt;Montréal-Trudeau International Airport, Montréal, Canada&lt;/p&gt;     &lt;/div&gt;     &lt;/div&gt;`)[0];\n",
       "                popup_8378582f8e0a26f446cbaf7d037538c9.setContent(html_a7d47e0d9eb9ba65eebe73a69e93d1e3);\n",
       "            \n",
       "        \n",
       "\n",
       "        marker_cfee0aaa45ee5e8f8d02c5a627f7251f.bindPopup(popup_8378582f8e0a26f446cbaf7d037538c9)\n",
       "        ;\n",
       "\n",
       "        \n",
       "    \n",
       "    \n",
       "            var marker_85f5c3951ff59746224e1869dad9a4e7 = L.marker(\n",
       "                [43.678223599999995, -79.62880467470774],\n",
       "                {}\n",
       "            ).addTo(map_6bb64da4ae3b82884053b42900f64d33);\n",
       "        \n",
       "    \n",
       "        var popup_37bf03a062d21548373f35abdcac55ff = L.popup({&quot;maxWidth&quot;: 300});\n",
       "\n",
       "        \n",
       "            \n",
       "                var html_b9699dc6fad4b532a046eac98f8f8e0d = $(`&lt;div id=&quot;html_b9699dc6fad4b532a046eac98f8f8e0d&quot; style=&quot;width: 100.0%; height: 100.0%;&quot;&gt;     &lt;div style=&quot;min-width: 0px; max-width: 500px;&quot;&gt;         &lt;p&gt;Toronto-Pearson International Airport, Canada&lt;/p&gt;     &lt;/div&gt;     &lt;/div&gt;`)[0];\n",
       "                popup_37bf03a062d21548373f35abdcac55ff.setContent(html_b9699dc6fad4b532a046eac98f8f8e0d);\n",
       "            \n",
       "        \n",
       "\n",
       "        marker_85f5c3951ff59746224e1869dad9a4e7.bindPopup(popup_37bf03a062d21548373f35abdcac55ff)\n",
       "        ;\n",
       "\n",
       "        \n",
       "    \n",
       "    \n",
       "            var marker_6c9c736a8999edb293305bc8b9d5c8b7 = L.marker(\n",
       "                [25.7949789, -80.28672341095405],\n",
       "                {}\n",
       "            ).addTo(map_6bb64da4ae3b82884053b42900f64d33);\n",
       "        \n",
       "    \n",
       "        var popup_f76a0bd0edca4e54fa5557048d051fc8 = L.popup({&quot;maxWidth&quot;: 300});\n",
       "\n",
       "        \n",
       "            \n",
       "                var html_61d6432c532fc2fb256f958797852f29 = $(`&lt;div id=&quot;html_61d6432c532fc2fb256f958797852f29&quot; style=&quot;width: 100.0%; height: 100.0%;&quot;&gt;     &lt;div style=&quot;min-width: 0px; max-width: 500px;&quot;&gt;         &lt;p&gt;Miami International Airport, USA&lt;/p&gt;     &lt;/div&gt;     &lt;/div&gt;`)[0];\n",
       "                popup_f76a0bd0edca4e54fa5557048d051fc8.setContent(html_61d6432c532fc2fb256f958797852f29);\n",
       "            \n",
       "        \n",
       "\n",
       "        marker_6c9c736a8999edb293305bc8b9d5c8b7.bindPopup(popup_f76a0bd0edca4e54fa5557048d051fc8)\n",
       "        ;\n",
       "\n",
       "        \n",
       "    \n",
       "    \n",
       "            var marker_14a4a99a5bc1d962e745eadddd0b66d3 = L.marker(\n",
       "                [25.7949789, -80.28672341095405],\n",
       "                {}\n",
       "            ).addTo(map_6bb64da4ae3b82884053b42900f64d33);\n",
       "        \n",
       "    \n",
       "        var popup_f01731e19f8523c64bf752619defe67d = L.popup({&quot;maxWidth&quot;: 300});\n",
       "\n",
       "        \n",
       "            \n",
       "                var html_f6f3d6ce8fdc325cf9335257f44d4422 = $(`&lt;div id=&quot;html_f6f3d6ce8fdc325cf9335257f44d4422&quot; style=&quot;width: 100.0%; height: 100.0%;&quot;&gt;     &lt;div style=&quot;min-width: 0px; max-width: 500px;&quot;&gt;         &lt;p&gt;Miami International Airport, USA&lt;/p&gt;     &lt;/div&gt;     &lt;/div&gt;`)[0];\n",
       "                popup_f01731e19f8523c64bf752619defe67d.setContent(html_f6f3d6ce8fdc325cf9335257f44d4422);\n",
       "            \n",
       "        \n",
       "\n",
       "        marker_14a4a99a5bc1d962e745eadddd0b66d3.bindPopup(popup_f01731e19f8523c64bf752619defe67d)\n",
       "        ;\n",
       "\n",
       "        \n",
       "    \n",
       "    \n",
       "            var marker_de062b18e7b9378c5a1a7eaad405732a = L.marker(\n",
       "                [51.46773895, -0.4587800741571181],\n",
       "                {}\n",
       "            ).addTo(map_6bb64da4ae3b82884053b42900f64d33);\n",
       "        \n",
       "    \n",
       "        var popup_810479f897117fbbd9d0c5b86c2f1b1c = L.popup({&quot;maxWidth&quot;: 300});\n",
       "\n",
       "        \n",
       "            \n",
       "                var html_3763a4c131b91562609a82f86fdb6df1 = $(`&lt;div id=&quot;html_3763a4c131b91562609a82f86fdb6df1&quot; style=&quot;width: 100.0%; height: 100.0%;&quot;&gt;     &lt;div style=&quot;min-width: 0px; max-width: 500px;&quot;&gt;         &lt;p&gt;Heathrow Airport, London, UK&lt;/p&gt;     &lt;/div&gt;     &lt;/div&gt;`)[0];\n",
       "                popup_810479f897117fbbd9d0c5b86c2f1b1c.setContent(html_3763a4c131b91562609a82f86fdb6df1);\n",
       "            \n",
       "        \n",
       "\n",
       "        marker_de062b18e7b9378c5a1a7eaad405732a.bindPopup(popup_810479f897117fbbd9d0c5b86c2f1b1c)\n",
       "        ;\n",
       "\n",
       "        \n",
       "    \n",
       "    \n",
       "            var marker_d195919a5a2fbc9f28ceaa2bfd378a42 = L.marker(\n",
       "                [51.46773895, -0.4587800741571181],\n",
       "                {}\n",
       "            ).addTo(map_6bb64da4ae3b82884053b42900f64d33);\n",
       "        \n",
       "    \n",
       "        var popup_27674db397ebe5268ec12931de5b50fa = L.popup({&quot;maxWidth&quot;: 300});\n",
       "\n",
       "        \n",
       "            \n",
       "                var html_6b430433df1f2dbeec5630c8cabdccda = $(`&lt;div id=&quot;html_6b430433df1f2dbeec5630c8cabdccda&quot; style=&quot;width: 100.0%; height: 100.0%;&quot;&gt;     &lt;div style=&quot;min-width: 0px; max-width: 500px;&quot;&gt;         &lt;p&gt;Heathrow Airport, London, UK&lt;/p&gt;     &lt;/div&gt;     &lt;/div&gt;`)[0];\n",
       "                popup_27674db397ebe5268ec12931de5b50fa.setContent(html_6b430433df1f2dbeec5630c8cabdccda);\n",
       "            \n",
       "        \n",
       "\n",
       "        marker_d195919a5a2fbc9f28ceaa2bfd378a42.bindPopup(popup_27674db397ebe5268ec12931de5b50fa)\n",
       "        ;\n",
       "\n",
       "        \n",
       "    \n",
       "    \n",
       "            var marker_797ba66bc3ed53832fafa5be4ff49ae7 = L.marker(\n",
       "                [37.017459599999995, -7.973933672397203],\n",
       "                {}\n",
       "            ).addTo(map_6bb64da4ae3b82884053b42900f64d33);\n",
       "        \n",
       "    \n",
       "        var popup_cd661854e1ef18ddcb265170540c9a71 = L.popup({&quot;maxWidth&quot;: 300});\n",
       "\n",
       "        \n",
       "            \n",
       "                var html_d7625571851c19d42729328312141354 = $(`&lt;div id=&quot;html_d7625571851c19d42729328312141354&quot; style=&quot;width: 100.0%; height: 100.0%;&quot;&gt;     &lt;div style=&quot;min-width: 0px; max-width: 500px;&quot;&gt;         &lt;p&gt;Faro Airport, Portugal&lt;/p&gt;     &lt;/div&gt;     &lt;/div&gt;`)[0];\n",
       "                popup_cd661854e1ef18ddcb265170540c9a71.setContent(html_d7625571851c19d42729328312141354);\n",
       "            \n",
       "        \n",
       "\n",
       "        marker_797ba66bc3ed53832fafa5be4ff49ae7.bindPopup(popup_cd661854e1ef18ddcb265170540c9a71)\n",
       "        ;\n",
       "\n",
       "        \n",
       "    \n",
       "    \n",
       "            var marker_8befdf3cb28937a39eecc62cb1feb0c0 = L.marker(\n",
       "                [37.017459599999995, -7.973933672397203],\n",
       "                {}\n",
       "            ).addTo(map_6bb64da4ae3b82884053b42900f64d33);\n",
       "        \n",
       "    \n",
       "        var popup_ab9e17affd8bdacbad4592cbc59ed209 = L.popup({&quot;maxWidth&quot;: 300});\n",
       "\n",
       "        \n",
       "            \n",
       "                var html_b328f19fd537260f2bef3e69d1d7b7cf = $(`&lt;div id=&quot;html_b328f19fd537260f2bef3e69d1d7b7cf&quot; style=&quot;width: 100.0%; height: 100.0%;&quot;&gt;     &lt;div style=&quot;min-width: 0px; max-width: 500px;&quot;&gt;         &lt;p&gt;Faro Airport, Portugal&lt;/p&gt;     &lt;/div&gt;     &lt;/div&gt;`)[0];\n",
       "                popup_ab9e17affd8bdacbad4592cbc59ed209.setContent(html_b328f19fd537260f2bef3e69d1d7b7cf);\n",
       "            \n",
       "        \n",
       "\n",
       "        marker_8befdf3cb28937a39eecc62cb1feb0c0.bindPopup(popup_ab9e17affd8bdacbad4592cbc59ed209)\n",
       "        ;\n",
       "\n",
       "        \n",
       "    \n",
       "    \n",
       "            var marker_b9f45e68f28ff8d852ba90ec357fb372 = L.marker(\n",
       "                [50.02294325, 8.524937254258731],\n",
       "                {}\n",
       "            ).addTo(map_6bb64da4ae3b82884053b42900f64d33);\n",
       "        \n",
       "    \n",
       "        var popup_0e4baec5a093f3c21476f1a6cfbdedb4 = L.popup({&quot;maxWidth&quot;: 300});\n",
       "\n",
       "        \n",
       "            \n",
       "                var html_4b0ad380c2b582a1fe77ef068da62963 = $(`&lt;div id=&quot;html_4b0ad380c2b582a1fe77ef068da62963&quot; style=&quot;width: 100.0%; height: 100.0%;&quot;&gt;     &lt;div style=&quot;min-width: 0px; max-width: 500px;&quot;&gt;         &lt;p&gt;Frankfurt Airport, Germany&lt;/p&gt;     &lt;/div&gt;     &lt;/div&gt;`)[0];\n",
       "                popup_0e4baec5a093f3c21476f1a6cfbdedb4.setContent(html_4b0ad380c2b582a1fe77ef068da62963);\n",
       "            \n",
       "        \n",
       "\n",
       "        marker_b9f45e68f28ff8d852ba90ec357fb372.bindPopup(popup_0e4baec5a093f3c21476f1a6cfbdedb4)\n",
       "        ;\n",
       "\n",
       "        \n",
       "    \n",
       "    \n",
       "            var marker_5c49405a537cfdb22b7996d469cac1b4 = L.marker(\n",
       "                [50.02294325, 8.524937254258731],\n",
       "                {}\n",
       "            ).addTo(map_6bb64da4ae3b82884053b42900f64d33);\n",
       "        \n",
       "    \n",
       "        var popup_6d7bc8aa4684119163c5bb74e0822020 = L.popup({&quot;maxWidth&quot;: 300});\n",
       "\n",
       "        \n",
       "            \n",
       "                var html_e1769aac848a7c2cf95dc7ff97398218 = $(`&lt;div id=&quot;html_e1769aac848a7c2cf95dc7ff97398218&quot; style=&quot;width: 100.0%; height: 100.0%;&quot;&gt;     &lt;div style=&quot;min-width: 0px; max-width: 500px;&quot;&gt;         &lt;p&gt;Frankfurt Airport, Germany&lt;/p&gt;     &lt;/div&gt;     &lt;/div&gt;`)[0];\n",
       "                popup_6d7bc8aa4684119163c5bb74e0822020.setContent(html_e1769aac848a7c2cf95dc7ff97398218);\n",
       "            \n",
       "        \n",
       "\n",
       "        marker_5c49405a537cfdb22b7996d469cac1b4.bindPopup(popup_6d7bc8aa4684119163c5bb74e0822020)\n",
       "        ;\n",
       "\n",
       "        \n",
       "    \n",
       "    \n",
       "            var marker_c84c3bb191172d15c94caeff7db2b87f = L.marker(\n",
       "                [38.95226625, -77.4534849116007],\n",
       "                {}\n",
       "            ).addTo(map_6bb64da4ae3b82884053b42900f64d33);\n",
       "        \n",
       "    \n",
       "        var popup_bc38cdfb56490675745f077b290bfffc = L.popup({&quot;maxWidth&quot;: 300});\n",
       "\n",
       "        \n",
       "            \n",
       "                var html_b7c45070d52c0262a584ea62720104f5 = $(`&lt;div id=&quot;html_b7c45070d52c0262a584ea62720104f5&quot; style=&quot;width: 100.0%; height: 100.0%;&quot;&gt;     &lt;div style=&quot;min-width: 0px; max-width: 500px;&quot;&gt;         &lt;p&gt;Washington Dulles Airport, USA&lt;/p&gt;     &lt;/div&gt;     &lt;/div&gt;`)[0];\n",
       "                popup_bc38cdfb56490675745f077b290bfffc.setContent(html_b7c45070d52c0262a584ea62720104f5);\n",
       "            \n",
       "        \n",
       "\n",
       "        marker_c84c3bb191172d15c94caeff7db2b87f.bindPopup(popup_bc38cdfb56490675745f077b290bfffc)\n",
       "        ;\n",
       "\n",
       "        \n",
       "    \n",
       "    \n",
       "            var marker_01588890dad46932ea7d8f54f7441f96 = L.marker(\n",
       "                [38.95226625, -77.4534849116007],\n",
       "                {}\n",
       "            ).addTo(map_6bb64da4ae3b82884053b42900f64d33);\n",
       "        \n",
       "    \n",
       "        var popup_52f29ce07d58c6da983945a76497882a = L.popup({&quot;maxWidth&quot;: 300});\n",
       "\n",
       "        \n",
       "            \n",
       "                var html_134bd6d82e63fbad3f4c60c206378b1a = $(`&lt;div id=&quot;html_134bd6d82e63fbad3f4c60c206378b1a&quot; style=&quot;width: 100.0%; height: 100.0%;&quot;&gt;     &lt;div style=&quot;min-width: 0px; max-width: 500px;&quot;&gt;         &lt;p&gt;Washington Dulles Airport, USA&lt;/p&gt;     &lt;/div&gt;     &lt;/div&gt;`)[0];\n",
       "                popup_52f29ce07d58c6da983945a76497882a.setContent(html_134bd6d82e63fbad3f4c60c206378b1a);\n",
       "            \n",
       "        \n",
       "\n",
       "        marker_01588890dad46932ea7d8f54f7441f96.bindPopup(popup_52f29ce07d58c6da983945a76497882a)\n",
       "        ;\n",
       "\n",
       "        \n",
       "    \n",
       "    \n",
       "            var marker_f1b8517843b11684100d4d33af7b4c6e = L.marker(\n",
       "                [18.42929615, -69.6715123798729],\n",
       "                {}\n",
       "            ).addTo(map_6bb64da4ae3b82884053b42900f64d33);\n",
       "        \n",
       "    \n",
       "        var popup_a896eeb49dd98902794117cfd9df9fe3 = L.popup({&quot;maxWidth&quot;: 300});\n",
       "\n",
       "        \n",
       "            \n",
       "                var html_89b21805dcefff8860e15e4f56c1f031 = $(`&lt;div id=&quot;html_89b21805dcefff8860e15e4f56c1f031&quot; style=&quot;width: 100.0%; height: 100.0%;&quot;&gt;     &lt;div style=&quot;min-width: 0px; max-width: 500px;&quot;&gt;         &lt;p&gt;Las Américas International Airport, Santo Domingo, Dominican Republic&lt;/p&gt;     &lt;/div&gt;     &lt;/div&gt;`)[0];\n",
       "                popup_a896eeb49dd98902794117cfd9df9fe3.setContent(html_89b21805dcefff8860e15e4f56c1f031);\n",
       "            \n",
       "        \n",
       "\n",
       "        marker_f1b8517843b11684100d4d33af7b4c6e.bindPopup(popup_a896eeb49dd98902794117cfd9df9fe3)\n",
       "        ;\n",
       "\n",
       "        \n",
       "    \n",
       "    \n",
       "            var marker_81c5d8b9029c87a3a0a8e01815d1365b = L.marker(\n",
       "                [18.42929615, -69.6715123798729],\n",
       "                {}\n",
       "            ).addTo(map_6bb64da4ae3b82884053b42900f64d33);\n",
       "        \n",
       "    \n",
       "        var popup_85cfe476742519cf32a8411356e929d7 = L.popup({&quot;maxWidth&quot;: 300});\n",
       "\n",
       "        \n",
       "            \n",
       "                var html_01f943d689c95f9cd4b0bfcd608059ed = $(`&lt;div id=&quot;html_01f943d689c95f9cd4b0bfcd608059ed&quot; style=&quot;width: 100.0%; height: 100.0%;&quot;&gt;     &lt;div style=&quot;min-width: 0px; max-width: 500px;&quot;&gt;         &lt;p&gt;Las Américas International Airport, Santo Domingo, Dominican Republic&lt;/p&gt;     &lt;/div&gt;     &lt;/div&gt;`)[0];\n",
       "                popup_85cfe476742519cf32a8411356e929d7.setContent(html_01f943d689c95f9cd4b0bfcd608059ed);\n",
       "            \n",
       "        \n",
       "\n",
       "        marker_81c5d8b9029c87a3a0a8e01815d1365b.bindPopup(popup_85cfe476742519cf32a8411356e929d7)\n",
       "        ;\n",
       "\n",
       "        \n",
       "    \n",
       "    \n",
       "            var marker_7ff5c5bc75b0e51ff0bd7aeb7800377a = L.marker(\n",
       "                [25.7949789, -80.28672341095405],\n",
       "                {}\n",
       "            ).addTo(map_6bb64da4ae3b82884053b42900f64d33);\n",
       "        \n",
       "    \n",
       "        var popup_7618c81ff4991979d8dc63aafcbb1743 = L.popup({&quot;maxWidth&quot;: 300});\n",
       "\n",
       "        \n",
       "            \n",
       "                var html_364c6dde794a1ef2336189fb733e7861 = $(`&lt;div id=&quot;html_364c6dde794a1ef2336189fb733e7861&quot; style=&quot;width: 100.0%; height: 100.0%;&quot;&gt;     &lt;div style=&quot;min-width: 0px; max-width: 500px;&quot;&gt;         &lt;p&gt;Miami International Airport, USA&lt;/p&gt;     &lt;/div&gt;     &lt;/div&gt;`)[0];\n",
       "                popup_7618c81ff4991979d8dc63aafcbb1743.setContent(html_364c6dde794a1ef2336189fb733e7861);\n",
       "            \n",
       "        \n",
       "\n",
       "        marker_7ff5c5bc75b0e51ff0bd7aeb7800377a.bindPopup(popup_7618c81ff4991979d8dc63aafcbb1743)\n",
       "        ;\n",
       "\n",
       "        \n",
       "    \n",
       "    \n",
       "            var marker_1f1565ad511eb6254ca4daac104aec6a = L.marker(\n",
       "                [25.7949789, -80.28672341095405],\n",
       "                {}\n",
       "            ).addTo(map_6bb64da4ae3b82884053b42900f64d33);\n",
       "        \n",
       "    \n",
       "        var popup_8dcdcddf7928ed46afbdf21c37e7f1cf = L.popup({&quot;maxWidth&quot;: 300});\n",
       "\n",
       "        \n",
       "            \n",
       "                var html_2b061d8e9293ec75d0e2fc797c64861d = $(`&lt;div id=&quot;html_2b061d8e9293ec75d0e2fc797c64861d&quot; style=&quot;width: 100.0%; height: 100.0%;&quot;&gt;     &lt;div style=&quot;min-width: 0px; max-width: 500px;&quot;&gt;         &lt;p&gt;Miami International Airport, USA&lt;/p&gt;     &lt;/div&gt;     &lt;/div&gt;`)[0];\n",
       "                popup_8dcdcddf7928ed46afbdf21c37e7f1cf.setContent(html_2b061d8e9293ec75d0e2fc797c64861d);\n",
       "            \n",
       "        \n",
       "\n",
       "        marker_1f1565ad511eb6254ca4daac104aec6a.bindPopup(popup_8dcdcddf7928ed46afbdf21c37e7f1cf)\n",
       "        ;\n",
       "\n",
       "        \n",
       "    \n",
       "    \n",
       "            var marker_ce6d820a2be6424921f36a7a287ce778 = L.marker(\n",
       "                [33.94216754999999, -118.42135906141587],\n",
       "                {}\n",
       "            ).addTo(map_6bb64da4ae3b82884053b42900f64d33);\n",
       "        \n",
       "    \n",
       "        var popup_1642f82d3b9e6b3e6cdebee258eba477 = L.popup({&quot;maxWidth&quot;: 300});\n",
       "\n",
       "        \n",
       "            \n",
       "                var html_cdfdad5978c04b907e3e9232979bcccb = $(`&lt;div id=&quot;html_cdfdad5978c04b907e3e9232979bcccb&quot; style=&quot;width: 100.0%; height: 100.0%;&quot;&gt;     &lt;div style=&quot;min-width: 0px; max-width: 500px;&quot;&gt;         &lt;p&gt;Los Angeles International Airport, USA&lt;/p&gt;     &lt;/div&gt;     &lt;/div&gt;`)[0];\n",
       "                popup_1642f82d3b9e6b3e6cdebee258eba477.setContent(html_cdfdad5978c04b907e3e9232979bcccb);\n",
       "            \n",
       "        \n",
       "\n",
       "        marker_ce6d820a2be6424921f36a7a287ce778.bindPopup(popup_1642f82d3b9e6b3e6cdebee258eba477)\n",
       "        ;\n",
       "\n",
       "        \n",
       "    \n",
       "    \n",
       "            var marker_8dc8c94e4e50d8a7493aa7de1907902d = L.marker(\n",
       "                [33.94216754999999, -118.42135906141587],\n",
       "                {}\n",
       "            ).addTo(map_6bb64da4ae3b82884053b42900f64d33);\n",
       "        \n",
       "    \n",
       "        var popup_4d78444433fa9272ed33dbc26841dcb9 = L.popup({&quot;maxWidth&quot;: 300});\n",
       "\n",
       "        \n",
       "            \n",
       "                var html_67a34b60ee72cc4652f6103317bab3f2 = $(`&lt;div id=&quot;html_67a34b60ee72cc4652f6103317bab3f2&quot; style=&quot;width: 100.0%; height: 100.0%;&quot;&gt;     &lt;div style=&quot;min-width: 0px; max-width: 500px;&quot;&gt;         &lt;p&gt;Los Angeles International Airport, USA&lt;/p&gt;     &lt;/div&gt;     &lt;/div&gt;`)[0];\n",
       "                popup_4d78444433fa9272ed33dbc26841dcb9.setContent(html_67a34b60ee72cc4652f6103317bab3f2);\n",
       "            \n",
       "        \n",
       "\n",
       "        marker_8dc8c94e4e50d8a7493aa7de1907902d.bindPopup(popup_4d78444433fa9272ed33dbc26841dcb9)\n",
       "        ;\n",
       "\n",
       "        \n",
       "    \n",
       "    \n",
       "            var marker_8f44cc7f6d5a14ee2e0436a7c7b0cb06 = L.marker(\n",
       "                [21.32115685, -157.91844155599904],\n",
       "                {}\n",
       "            ).addTo(map_6bb64da4ae3b82884053b42900f64d33);\n",
       "        \n",
       "    \n",
       "        var popup_e6087ada3d32d0191cebc85b29a165d9 = L.popup({&quot;maxWidth&quot;: 300});\n",
       "\n",
       "        \n",
       "            \n",
       "                var html_3fca0bcecada6b6b00c7811cbd39acc4 = $(`&lt;div id=&quot;html_3fca0bcecada6b6b00c7811cbd39acc4&quot; style=&quot;width: 100.0%; height: 100.0%;&quot;&gt;     &lt;div style=&quot;min-width: 0px; max-width: 500px;&quot;&gt;         &lt;p&gt;Daniel K. Inouye International Airport, Honolulu, Hawaii, USA&lt;/p&gt;     &lt;/div&gt;     &lt;/div&gt;`)[0];\n",
       "                popup_e6087ada3d32d0191cebc85b29a165d9.setContent(html_3fca0bcecada6b6b00c7811cbd39acc4);\n",
       "            \n",
       "        \n",
       "\n",
       "        marker_8f44cc7f6d5a14ee2e0436a7c7b0cb06.bindPopup(popup_e6087ada3d32d0191cebc85b29a165d9)\n",
       "        ;\n",
       "\n",
       "        \n",
       "    \n",
       "    \n",
       "            var marker_162fc66ee68e9efd9c801dceba47dd7a = L.marker(\n",
       "                [21.32115685, -157.91844155599904],\n",
       "                {}\n",
       "            ).addTo(map_6bb64da4ae3b82884053b42900f64d33);\n",
       "        \n",
       "    \n",
       "        var popup_c33fd8893caefca2bfd16ff83ac049bb = L.popup({&quot;maxWidth&quot;: 300});\n",
       "\n",
       "        \n",
       "            \n",
       "                var html_4c4081282fdf75c720b6e0370eb14582 = $(`&lt;div id=&quot;html_4c4081282fdf75c720b6e0370eb14582&quot; style=&quot;width: 100.0%; height: 100.0%;&quot;&gt;     &lt;div style=&quot;min-width: 0px; max-width: 500px;&quot;&gt;         &lt;p&gt;Daniel K. Inouye International Airport, Honolulu, Hawaii, USA&lt;/p&gt;     &lt;/div&gt;     &lt;/div&gt;`)[0];\n",
       "                popup_c33fd8893caefca2bfd16ff83ac049bb.setContent(html_4c4081282fdf75c720b6e0370eb14582);\n",
       "            \n",
       "        \n",
       "\n",
       "        marker_162fc66ee68e9efd9c801dceba47dd7a.bindPopup(popup_c33fd8893caefca2bfd16ff83ac049bb)\n",
       "        ;\n",
       "\n",
       "        \n",
       "    \n",
       "    \n",
       "            var marker_6a6187d25cf2071e8172e781722500c5 = L.marker(\n",
       "                [-33.9498935, 151.18196819346016],\n",
       "                {}\n",
       "            ).addTo(map_6bb64da4ae3b82884053b42900f64d33);\n",
       "        \n",
       "    \n",
       "        var popup_324d7dfafc2995e99a44457271dd1e4b = L.popup({&quot;maxWidth&quot;: 300});\n",
       "\n",
       "        \n",
       "            \n",
       "                var html_9831c8e3e2ce597d5ebbb08a5785b93c = $(`&lt;div id=&quot;html_9831c8e3e2ce597d5ebbb08a5785b93c&quot; style=&quot;width: 100.0%; height: 100.0%;&quot;&gt;     &lt;div style=&quot;min-width: 0px; max-width: 500px;&quot;&gt;         &lt;p&gt;Sydney Airport, Australia&lt;/p&gt;     &lt;/div&gt;     &lt;/div&gt;`)[0];\n",
       "                popup_324d7dfafc2995e99a44457271dd1e4b.setContent(html_9831c8e3e2ce597d5ebbb08a5785b93c);\n",
       "            \n",
       "        \n",
       "\n",
       "        marker_6a6187d25cf2071e8172e781722500c5.bindPopup(popup_324d7dfafc2995e99a44457271dd1e4b)\n",
       "        ;\n",
       "\n",
       "        \n",
       "    \n",
       "    \n",
       "            var marker_d08caa27edc0e70640dd00812adb0d54 = L.marker(\n",
       "                [-33.9498935, 151.18196819346016],\n",
       "                {}\n",
       "            ).addTo(map_6bb64da4ae3b82884053b42900f64d33);\n",
       "        \n",
       "    \n",
       "        var popup_8d22c49f758fa91394087447b87a8fa9 = L.popup({&quot;maxWidth&quot;: 300});\n",
       "\n",
       "        \n",
       "            \n",
       "                var html_00803e01e60a0edd9c74d5e9123e19ec = $(`&lt;div id=&quot;html_00803e01e60a0edd9c74d5e9123e19ec&quot; style=&quot;width: 100.0%; height: 100.0%;&quot;&gt;     &lt;div style=&quot;min-width: 0px; max-width: 500px;&quot;&gt;         &lt;p&gt;Sydney Airport, Australia&lt;/p&gt;     &lt;/div&gt;     &lt;/div&gt;`)[0];\n",
       "                popup_8d22c49f758fa91394087447b87a8fa9.setContent(html_00803e01e60a0edd9c74d5e9123e19ec);\n",
       "            \n",
       "        \n",
       "\n",
       "        marker_d08caa27edc0e70640dd00812adb0d54.bindPopup(popup_8d22c49f758fa91394087447b87a8fa9)\n",
       "        ;\n",
       "\n",
       "        \n",
       "    \n",
       "    \n",
       "            var marker_2d85a28f98e512303addca2b2d49c5dc = L.marker(\n",
       "                [-27.387621250000002, 153.12158203524928],\n",
       "                {}\n",
       "            ).addTo(map_6bb64da4ae3b82884053b42900f64d33);\n",
       "        \n",
       "    \n",
       "        var popup_eb81f5bdb1560496fd2cba56edabf45e = L.popup({&quot;maxWidth&quot;: 300});\n",
       "\n",
       "        \n",
       "            \n",
       "                var html_af2946139e31a305f7c87b8b746e91e1 = $(`&lt;div id=&quot;html_af2946139e31a305f7c87b8b746e91e1&quot; style=&quot;width: 100.0%; height: 100.0%;&quot;&gt;     &lt;div style=&quot;min-width: 0px; max-width: 500px;&quot;&gt;         &lt;p&gt;Brisbane Airport, Australia&lt;/p&gt;     &lt;/div&gt;     &lt;/div&gt;`)[0];\n",
       "                popup_eb81f5bdb1560496fd2cba56edabf45e.setContent(html_af2946139e31a305f7c87b8b746e91e1);\n",
       "            \n",
       "        \n",
       "\n",
       "        marker_2d85a28f98e512303addca2b2d49c5dc.bindPopup(popup_eb81f5bdb1560496fd2cba56edabf45e)\n",
       "        ;\n",
       "\n",
       "        \n",
       "    \n",
       "    \n",
       "            var marker_7299f9805ff27565efc4b2f8630eab54 = L.marker(\n",
       "                [-27.387621250000002, 153.12158203524928],\n",
       "                {}\n",
       "            ).addTo(map_6bb64da4ae3b82884053b42900f64d33);\n",
       "        \n",
       "    \n",
       "        var popup_9b455c30dc6b9030462ea37b8fbe6135 = L.popup({&quot;maxWidth&quot;: 300});\n",
       "\n",
       "        \n",
       "            \n",
       "                var html_f66bffa289bf6f96d22d76e0625153f3 = $(`&lt;div id=&quot;html_f66bffa289bf6f96d22d76e0625153f3&quot; style=&quot;width: 100.0%; height: 100.0%;&quot;&gt;     &lt;div style=&quot;min-width: 0px; max-width: 500px;&quot;&gt;         &lt;p&gt;Brisbane Airport, Australia&lt;/p&gt;     &lt;/div&gt;     &lt;/div&gt;`)[0];\n",
       "                popup_9b455c30dc6b9030462ea37b8fbe6135.setContent(html_f66bffa289bf6f96d22d76e0625153f3);\n",
       "            \n",
       "        \n",
       "\n",
       "        marker_7299f9805ff27565efc4b2f8630eab54.bindPopup(popup_9b455c30dc6b9030462ea37b8fbe6135)\n",
       "        ;\n",
       "\n",
       "        \n",
       "    \n",
       "    \n",
       "            var marker_83a8a09cc4a6787178bc4f9ee8399d46 = L.marker(\n",
       "                [-16.877789200000002, 145.75154952736838],\n",
       "                {}\n",
       "            ).addTo(map_6bb64da4ae3b82884053b42900f64d33);\n",
       "        \n",
       "    \n",
       "        var popup_26228ade9dace96f765f7f90728ca567 = L.popup({&quot;maxWidth&quot;: 300});\n",
       "\n",
       "        \n",
       "            \n",
       "                var html_eaf3678ecd5535cde40bdc6075af905c = $(`&lt;div id=&quot;html_eaf3678ecd5535cde40bdc6075af905c&quot; style=&quot;width: 100.0%; height: 100.0%;&quot;&gt;     &lt;div style=&quot;min-width: 0px; max-width: 500px;&quot;&gt;         &lt;p&gt;Cairns Airport, Australia&lt;/p&gt;     &lt;/div&gt;     &lt;/div&gt;`)[0];\n",
       "                popup_26228ade9dace96f765f7f90728ca567.setContent(html_eaf3678ecd5535cde40bdc6075af905c);\n",
       "            \n",
       "        \n",
       "\n",
       "        marker_83a8a09cc4a6787178bc4f9ee8399d46.bindPopup(popup_26228ade9dace96f765f7f90728ca567)\n",
       "        ;\n",
       "\n",
       "        \n",
       "    \n",
       "    \n",
       "            var marker_16d283ae8b4392bf4d3cf25975f73fc0 = L.marker(\n",
       "                [-27.387621250000002, 153.12158203524928],\n",
       "                {}\n",
       "            ).addTo(map_6bb64da4ae3b82884053b42900f64d33);\n",
       "        \n",
       "    \n",
       "        var popup_60ac74080681fa7fa141a61a354581e8 = L.popup({&quot;maxWidth&quot;: 300});\n",
       "\n",
       "        \n",
       "            \n",
       "                var html_e9b957e5863a184a9d05f50fac9aff58 = $(`&lt;div id=&quot;html_e9b957e5863a184a9d05f50fac9aff58&quot; style=&quot;width: 100.0%; height: 100.0%;&quot;&gt;     &lt;div style=&quot;min-width: 0px; max-width: 500px;&quot;&gt;         &lt;p&gt;Brisbane Airport, Australia&lt;/p&gt;     &lt;/div&gt;     &lt;/div&gt;`)[0];\n",
       "                popup_60ac74080681fa7fa141a61a354581e8.setContent(html_e9b957e5863a184a9d05f50fac9aff58);\n",
       "            \n",
       "        \n",
       "\n",
       "        marker_16d283ae8b4392bf4d3cf25975f73fc0.bindPopup(popup_60ac74080681fa7fa141a61a354581e8)\n",
       "        ;\n",
       "\n",
       "        \n",
       "    \n",
       "    \n",
       "            var marker_02738bbb97fea6de5bf72e7be76c380f = L.marker(\n",
       "                [-33.9498935, 151.18196819346016],\n",
       "                {}\n",
       "            ).addTo(map_6bb64da4ae3b82884053b42900f64d33);\n",
       "        \n",
       "    \n",
       "        var popup_5a51199fad7a11fb75d2845f9f87e527 = L.popup({&quot;maxWidth&quot;: 300});\n",
       "\n",
       "        \n",
       "            \n",
       "                var html_9bd0f60a9e65dd83edc61c44a63790ef = $(`&lt;div id=&quot;html_9bd0f60a9e65dd83edc61c44a63790ef&quot; style=&quot;width: 100.0%; height: 100.0%;&quot;&gt;     &lt;div style=&quot;min-width: 0px; max-width: 500px;&quot;&gt;         &lt;p&gt;Sydney Airport, Australia&lt;/p&gt;     &lt;/div&gt;     &lt;/div&gt;`)[0];\n",
       "                popup_5a51199fad7a11fb75d2845f9f87e527.setContent(html_9bd0f60a9e65dd83edc61c44a63790ef);\n",
       "            \n",
       "        \n",
       "\n",
       "        marker_02738bbb97fea6de5bf72e7be76c380f.bindPopup(popup_5a51199fad7a11fb75d2845f9f87e527)\n",
       "        ;\n",
       "\n",
       "        \n",
       "    \n",
       "    \n",
       "            var marker_7ce42c5daf74b95f268767fa53d6f021 = L.marker(\n",
       "                [-33.9498935, 151.18196819346016],\n",
       "                {}\n",
       "            ).addTo(map_6bb64da4ae3b82884053b42900f64d33);\n",
       "        \n",
       "    \n",
       "        var popup_b54408be9824dd345a581eecc4c6df85 = L.popup({&quot;maxWidth&quot;: 300});\n",
       "\n",
       "        \n",
       "            \n",
       "                var html_e3381d0790d078b9bf06455189a0f2ce = $(`&lt;div id=&quot;html_e3381d0790d078b9bf06455189a0f2ce&quot; style=&quot;width: 100.0%; height: 100.0%;&quot;&gt;     &lt;div style=&quot;min-width: 0px; max-width: 500px;&quot;&gt;         &lt;p&gt;Sydney Airport, Australia&lt;/p&gt;     &lt;/div&gt;     &lt;/div&gt;`)[0];\n",
       "                popup_b54408be9824dd345a581eecc4c6df85.setContent(html_e3381d0790d078b9bf06455189a0f2ce);\n",
       "            \n",
       "        \n",
       "\n",
       "        marker_7ce42c5daf74b95f268767fa53d6f021.bindPopup(popup_b54408be9824dd345a581eecc4c6df85)\n",
       "        ;\n",
       "\n",
       "        \n",
       "    \n",
       "    \n",
       "            var marker_d36483debfc77e5a4f4cc72f11650f99 = L.marker(\n",
       "                [21.32115685, -157.91844155599904],\n",
       "                {}\n",
       "            ).addTo(map_6bb64da4ae3b82884053b42900f64d33);\n",
       "        \n",
       "    \n",
       "        var popup_844adc1cfae6989f6f73579d843c698e = L.popup({&quot;maxWidth&quot;: 300});\n",
       "\n",
       "        \n",
       "            \n",
       "                var html_3fc07f48a5412bc636cfd55743c8fc21 = $(`&lt;div id=&quot;html_3fc07f48a5412bc636cfd55743c8fc21&quot; style=&quot;width: 100.0%; height: 100.0%;&quot;&gt;     &lt;div style=&quot;min-width: 0px; max-width: 500px;&quot;&gt;         &lt;p&gt;Daniel K. Inouye International Airport, Honolulu, Hawaii, USA&lt;/p&gt;     &lt;/div&gt;     &lt;/div&gt;`)[0];\n",
       "                popup_844adc1cfae6989f6f73579d843c698e.setContent(html_3fc07f48a5412bc636cfd55743c8fc21);\n",
       "            \n",
       "        \n",
       "\n",
       "        marker_d36483debfc77e5a4f4cc72f11650f99.bindPopup(popup_844adc1cfae6989f6f73579d843c698e)\n",
       "        ;\n",
       "\n",
       "        \n",
       "    \n",
       "    \n",
       "            var marker_63e353a991b7d2e2df221065e31eccfb = L.marker(\n",
       "                [21.32115685, -157.91844155599904],\n",
       "                {}\n",
       "            ).addTo(map_6bb64da4ae3b82884053b42900f64d33);\n",
       "        \n",
       "    \n",
       "        var popup_faa62367e011023064e0ced68491a8b8 = L.popup({&quot;maxWidth&quot;: 300});\n",
       "\n",
       "        \n",
       "            \n",
       "                var html_352824dc6f00b2a07d61cbf16a624b03 = $(`&lt;div id=&quot;html_352824dc6f00b2a07d61cbf16a624b03&quot; style=&quot;width: 100.0%; height: 100.0%;&quot;&gt;     &lt;div style=&quot;min-width: 0px; max-width: 500px;&quot;&gt;         &lt;p&gt;Daniel K. Inouye International Airport, Honolulu, Hawaii, USA&lt;/p&gt;     &lt;/div&gt;     &lt;/div&gt;`)[0];\n",
       "                popup_faa62367e011023064e0ced68491a8b8.setContent(html_352824dc6f00b2a07d61cbf16a624b03);\n",
       "            \n",
       "        \n",
       "\n",
       "        marker_63e353a991b7d2e2df221065e31eccfb.bindPopup(popup_faa62367e011023064e0ced68491a8b8)\n",
       "        ;\n",
       "\n",
       "        \n",
       "    \n",
       "    \n",
       "            var marker_2a7a28cb23b076747fdfbc420e59aed0 = L.marker(\n",
       "                [19.718830599999997, -155.04755391447696],\n",
       "                {}\n",
       "            ).addTo(map_6bb64da4ae3b82884053b42900f64d33);\n",
       "        \n",
       "    \n",
       "        var popup_91fab992171d2e74436012c9bfd7fffa = L.popup({&quot;maxWidth&quot;: 300});\n",
       "\n",
       "        \n",
       "            \n",
       "                var html_c952ff85eb0441f8e5f6706bf86dba88 = $(`&lt;div id=&quot;html_c952ff85eb0441f8e5f6706bf86dba88&quot; style=&quot;width: 100.0%; height: 100.0%;&quot;&gt;     &lt;div style=&quot;min-width: 0px; max-width: 500px;&quot;&gt;         &lt;p&gt;Hilo International Airport, Hawaii, USA&lt;/p&gt;     &lt;/div&gt;     &lt;/div&gt;`)[0];\n",
       "                popup_91fab992171d2e74436012c9bfd7fffa.setContent(html_c952ff85eb0441f8e5f6706bf86dba88);\n",
       "            \n",
       "        \n",
       "\n",
       "        marker_2a7a28cb23b076747fdfbc420e59aed0.bindPopup(popup_91fab992171d2e74436012c9bfd7fffa)\n",
       "        ;\n",
       "\n",
       "        \n",
       "    \n",
       "    \n",
       "            var marker_b101b4b06f84765dc040bb534f8a81f4 = L.marker(\n",
       "                [19.718830599999997, -155.04755391447696],\n",
       "                {}\n",
       "            ).addTo(map_6bb64da4ae3b82884053b42900f64d33);\n",
       "        \n",
       "    \n",
       "        var popup_0d5c745f8e87f57ad1f442c68407a53f = L.popup({&quot;maxWidth&quot;: 300});\n",
       "\n",
       "        \n",
       "            \n",
       "                var html_9d486011b4e412a2ba92b94c07185527 = $(`&lt;div id=&quot;html_9d486011b4e412a2ba92b94c07185527&quot; style=&quot;width: 100.0%; height: 100.0%;&quot;&gt;     &lt;div style=&quot;min-width: 0px; max-width: 500px;&quot;&gt;         &lt;p&gt;Hilo International Airport, Hawaii, USA&lt;/p&gt;     &lt;/div&gt;     &lt;/div&gt;`)[0];\n",
       "                popup_0d5c745f8e87f57ad1f442c68407a53f.setContent(html_9d486011b4e412a2ba92b94c07185527);\n",
       "            \n",
       "        \n",
       "\n",
       "        marker_b101b4b06f84765dc040bb534f8a81f4.bindPopup(popup_0d5c745f8e87f57ad1f442c68407a53f)\n",
       "        ;\n",
       "\n",
       "        \n",
       "    \n",
       "    \n",
       "            var marker_89020e72c8234b1c909a001c48365a2d = L.marker(\n",
       "                [33.94216754999999, -118.42135906141587],\n",
       "                {}\n",
       "            ).addTo(map_6bb64da4ae3b82884053b42900f64d33);\n",
       "        \n",
       "    \n",
       "        var popup_c43844ea177eae31d7ef8b99bbb41b5a = L.popup({&quot;maxWidth&quot;: 300});\n",
       "\n",
       "        \n",
       "            \n",
       "                var html_3687cd09f15ab2b7f888369491caf26f = $(`&lt;div id=&quot;html_3687cd09f15ab2b7f888369491caf26f&quot; style=&quot;width: 100.0%; height: 100.0%;&quot;&gt;     &lt;div style=&quot;min-width: 0px; max-width: 500px;&quot;&gt;         &lt;p&gt;Los Angeles International Airport, USA&lt;/p&gt;     &lt;/div&gt;     &lt;/div&gt;`)[0];\n",
       "                popup_c43844ea177eae31d7ef8b99bbb41b5a.setContent(html_3687cd09f15ab2b7f888369491caf26f);\n",
       "            \n",
       "        \n",
       "\n",
       "        marker_89020e72c8234b1c909a001c48365a2d.bindPopup(popup_c43844ea177eae31d7ef8b99bbb41b5a)\n",
       "        ;\n",
       "\n",
       "        \n",
       "    \n",
       "    \n",
       "            var marker_9267dac836d30ea2bfe7fa49e35ce6f4 = L.marker(\n",
       "                [33.94216754999999, -118.42135906141587],\n",
       "                {}\n",
       "            ).addTo(map_6bb64da4ae3b82884053b42900f64d33);\n",
       "        \n",
       "    \n",
       "        var popup_eb4b101833f708585469ae4c11ae9f2d = L.popup({&quot;maxWidth&quot;: 300});\n",
       "\n",
       "        \n",
       "            \n",
       "                var html_9ea0aacd22e90a0afa353e8d0a107806 = $(`&lt;div id=&quot;html_9ea0aacd22e90a0afa353e8d0a107806&quot; style=&quot;width: 100.0%; height: 100.0%;&quot;&gt;     &lt;div style=&quot;min-width: 0px; max-width: 500px;&quot;&gt;         &lt;p&gt;Los Angeles International Airport, USA&lt;/p&gt;     &lt;/div&gt;     &lt;/div&gt;`)[0];\n",
       "                popup_eb4b101833f708585469ae4c11ae9f2d.setContent(html_9ea0aacd22e90a0afa353e8d0a107806);\n",
       "            \n",
       "        \n",
       "\n",
       "        marker_9267dac836d30ea2bfe7fa49e35ce6f4.bindPopup(popup_eb4b101833f708585469ae4c11ae9f2d)\n",
       "        ;\n",
       "\n",
       "        \n",
       "    \n",
       "    \n",
       "            var marker_c929ac96c195b5e5576e46a92d908e60 = L.marker(\n",
       "                [21.0406984, -86.88175904256647],\n",
       "                {}\n",
       "            ).addTo(map_6bb64da4ae3b82884053b42900f64d33);\n",
       "        \n",
       "    \n",
       "        var popup_1a72340365f5feb2ecb1e2bd11241dcf = L.popup({&quot;maxWidth&quot;: 300});\n",
       "\n",
       "        \n",
       "            \n",
       "                var html_3069b69bc70d602831b0598a7112184f = $(`&lt;div id=&quot;html_3069b69bc70d602831b0598a7112184f&quot; style=&quot;width: 100.0%; height: 100.0%;&quot;&gt;     &lt;div style=&quot;min-width: 0px; max-width: 500px;&quot;&gt;         &lt;p&gt;Cancun International Airport, Mexico&lt;/p&gt;     &lt;/div&gt;     &lt;/div&gt;`)[0];\n",
       "                popup_1a72340365f5feb2ecb1e2bd11241dcf.setContent(html_3069b69bc70d602831b0598a7112184f);\n",
       "            \n",
       "        \n",
       "\n",
       "        marker_c929ac96c195b5e5576e46a92d908e60.bindPopup(popup_1a72340365f5feb2ecb1e2bd11241dcf)\n",
       "        ;\n",
       "\n",
       "        \n",
       "    \n",
       "    \n",
       "            var marker_5cc613ca6b143c02814d8b6151385938 = L.marker(\n",
       "                [20.9246449, -89.65927789055651],\n",
       "                {}\n",
       "            ).addTo(map_6bb64da4ae3b82884053b42900f64d33);\n",
       "        \n",
       "    \n",
       "        var popup_1ef79047acacebabfcbec20ab4aee9ec = L.popup({&quot;maxWidth&quot;: 300});\n",
       "\n",
       "        \n",
       "            \n",
       "                var html_35d2b10146ee00e79234bf0d189a1f38 = $(`&lt;div id=&quot;html_35d2b10146ee00e79234bf0d189a1f38&quot; style=&quot;width: 100.0%; height: 100.0%;&quot;&gt;     &lt;div style=&quot;min-width: 0px; max-width: 500px;&quot;&gt;         &lt;p&gt;Mérida International Airport, Mexico&lt;/p&gt;     &lt;/div&gt;     &lt;/div&gt;`)[0];\n",
       "                popup_1ef79047acacebabfcbec20ab4aee9ec.setContent(html_35d2b10146ee00e79234bf0d189a1f38);\n",
       "            \n",
       "        \n",
       "\n",
       "        marker_5cc613ca6b143c02814d8b6151385938.bindPopup(popup_1ef79047acacebabfcbec20ab4aee9ec)\n",
       "        ;\n",
       "\n",
       "        \n",
       "    \n",
       "    \n",
       "            var marker_acc4bf919bb18ddaf3f4c35dc2315ac9 = L.marker(\n",
       "                [29.9841416, -95.33298595614491],\n",
       "                {}\n",
       "            ).addTo(map_6bb64da4ae3b82884053b42900f64d33);\n",
       "        \n",
       "    \n",
       "        var popup_9d90553f1b28f3d1ea58578e1ea3f1bd = L.popup({&quot;maxWidth&quot;: 300});\n",
       "\n",
       "        \n",
       "            \n",
       "                var html_75a557b5944aaf4a8bf86ea5b4437a7f = $(`&lt;div id=&quot;html_75a557b5944aaf4a8bf86ea5b4437a7f&quot; style=&quot;width: 100.0%; height: 100.0%;&quot;&gt;     &lt;div style=&quot;min-width: 0px; max-width: 500px;&quot;&gt;         &lt;p&gt;George Bush Intercontinental Airport, Houston, USA&lt;/p&gt;     &lt;/div&gt;     &lt;/div&gt;`)[0];\n",
       "                popup_9d90553f1b28f3d1ea58578e1ea3f1bd.setContent(html_75a557b5944aaf4a8bf86ea5b4437a7f);\n",
       "            \n",
       "        \n",
       "\n",
       "        marker_acc4bf919bb18ddaf3f4c35dc2315ac9.bindPopup(popup_9d90553f1b28f3d1ea58578e1ea3f1bd)\n",
       "        ;\n",
       "\n",
       "        \n",
       "    \n",
       "    \n",
       "            var marker_d9abca6492af0cd50e62723675e58579 = L.marker(\n",
       "                [29.9841416, -95.33298595614491],\n",
       "                {}\n",
       "            ).addTo(map_6bb64da4ae3b82884053b42900f64d33);\n",
       "        \n",
       "    \n",
       "        var popup_83e0fd77bec5c139a4350ebf1984cd94 = L.popup({&quot;maxWidth&quot;: 300});\n",
       "\n",
       "        \n",
       "            \n",
       "                var html_7e99dd98068895fdda2c57c3420f14f8 = $(`&lt;div id=&quot;html_7e99dd98068895fdda2c57c3420f14f8&quot; style=&quot;width: 100.0%; height: 100.0%;&quot;&gt;     &lt;div style=&quot;min-width: 0px; max-width: 500px;&quot;&gt;         &lt;p&gt;George Bush Intercontinental Airport, Houston, USA&lt;/p&gt;     &lt;/div&gt;     &lt;/div&gt;`)[0];\n",
       "                popup_83e0fd77bec5c139a4350ebf1984cd94.setContent(html_7e99dd98068895fdda2c57c3420f14f8);\n",
       "            \n",
       "        \n",
       "\n",
       "        marker_d9abca6492af0cd50e62723675e58579.bindPopup(popup_83e0fd77bec5c139a4350ebf1984cd94)\n",
       "        ;\n",
       "\n",
       "        \n",
       "    \n",
       "    \n",
       "            var marker_4bfd1030bcc1d345610682df547789b2 = L.marker(\n",
       "                [37.3633299, -121.9293365260259],\n",
       "                {}\n",
       "            ).addTo(map_6bb64da4ae3b82884053b42900f64d33);\n",
       "        \n",
       "    \n",
       "        var popup_b9b86c048ef086f76d0e8a8d3f7bce2e = L.popup({&quot;maxWidth&quot;: 300});\n",
       "\n",
       "        \n",
       "            \n",
       "                var html_c75b15cf607935e027143993c0df4ac2 = $(`&lt;div id=&quot;html_c75b15cf607935e027143993c0df4ac2&quot; style=&quot;width: 100.0%; height: 100.0%;&quot;&gt;     &lt;div style=&quot;min-width: 0px; max-width: 500px;&quot;&gt;         &lt;p&gt;San Jose International Airport, USA&lt;/p&gt;     &lt;/div&gt;     &lt;/div&gt;`)[0];\n",
       "                popup_b9b86c048ef086f76d0e8a8d3f7bce2e.setContent(html_c75b15cf607935e027143993c0df4ac2);\n",
       "            \n",
       "        \n",
       "\n",
       "        marker_4bfd1030bcc1d345610682df547789b2.bindPopup(popup_b9b86c048ef086f76d0e8a8d3f7bce2e)\n",
       "        ;\n",
       "\n",
       "        \n",
       "    \n",
       "    \n",
       "            var marker_a51f91ee61e1e991b7b3b21b74bdb54e = L.marker(\n",
       "                [37.622451999999996, -122.38398938548363],\n",
       "                {}\n",
       "            ).addTo(map_6bb64da4ae3b82884053b42900f64d33);\n",
       "        \n",
       "    \n",
       "        var popup_1ce4f7a466b01533b6f8cf2e7810cd5e = L.popup({&quot;maxWidth&quot;: 300});\n",
       "\n",
       "        \n",
       "            \n",
       "                var html_e8f9d3dd94af9a9b64b9008a4dd29a33 = $(`&lt;div id=&quot;html_e8f9d3dd94af9a9b64b9008a4dd29a33&quot; style=&quot;width: 100.0%; height: 100.0%;&quot;&gt;     &lt;div style=&quot;min-width: 0px; max-width: 500px;&quot;&gt;         &lt;p&gt;San Francisco International Airport, USA&lt;/p&gt;     &lt;/div&gt;     &lt;/div&gt;`)[0];\n",
       "                popup_1ce4f7a466b01533b6f8cf2e7810cd5e.setContent(html_e8f9d3dd94af9a9b64b9008a4dd29a33);\n",
       "            \n",
       "        \n",
       "\n",
       "        marker_a51f91ee61e1e991b7b3b21b74bdb54e.bindPopup(popup_1ce4f7a466b01533b6f8cf2e7810cd5e)\n",
       "        ;\n",
       "\n",
       "        \n",
       "    \n",
       "    \n",
       "            var marker_3ddaf2e29cde5e96485609abf25b6ccc = L.marker(\n",
       "                [50.02294325, 8.524937254258731],\n",
       "                {}\n",
       "            ).addTo(map_6bb64da4ae3b82884053b42900f64d33);\n",
       "        \n",
       "    \n",
       "        var popup_9c7d0487d501e1ff1a2b0664aac088fd = L.popup({&quot;maxWidth&quot;: 300});\n",
       "\n",
       "        \n",
       "            \n",
       "                var html_b70d51bc44d734743f678b05ff12f311 = $(`&lt;div id=&quot;html_b70d51bc44d734743f678b05ff12f311&quot; style=&quot;width: 100.0%; height: 100.0%;&quot;&gt;     &lt;div style=&quot;min-width: 0px; max-width: 500px;&quot;&gt;         &lt;p&gt;Frankfurt Airport, Germany&lt;/p&gt;     &lt;/div&gt;     &lt;/div&gt;`)[0];\n",
       "                popup_9c7d0487d501e1ff1a2b0664aac088fd.setContent(html_b70d51bc44d734743f678b05ff12f311);\n",
       "            \n",
       "        \n",
       "\n",
       "        marker_3ddaf2e29cde5e96485609abf25b6ccc.bindPopup(popup_9c7d0487d501e1ff1a2b0664aac088fd)\n",
       "        ;\n",
       "\n",
       "        \n",
       "    \n",
       "&lt;/script&gt;\n",
       "&lt;/html&gt;\" style=\"position:absolute;width:100%;height:100%;left:0;top:0;border:none !important;\" allowfullscreen webkitallowfullscreen mozallowfullscreen></iframe></div></div>"
      ],
      "text/plain": [
       "<folium.folium.Map at 0x13ebe1ef810>"
      ]
     },
     "execution_count": 58,
     "metadata": {},
     "output_type": "execute_result"
    }
   ],
   "source": [
    "# Step 4: Create a map with Folium\n",
    "map_center = [df_coordinates['latitude'].mean(), df_coordinates['longitude'].mean()]\n",
    "map_locations = folium.Map(\n",
    "    location=map_center, \n",
    "    zoom_start=2,\n",
    "    min_zoom=2,\n",
    "    max_bounds=True,\n",
    "    tiles='OpenStreetMap',\n",
    "    no_wrap=True,\n",
    "    prefer_canvas=True\n",
    ")\n",
    "\n",
    "for idx, row in df_coordinates.iterrows():\n",
    "    # Custom HTML content for the popup to make it wider\n",
    "    popup_content = f\"\"\"\n",
    "    <div style=\"min-width: 0px; max-width: 500px;\">\n",
    "        <p>{row['location']}</p>\n",
    "    </div>\n",
    "    \"\"\"\n",
    "    popup = folium.Popup(popup_content, max_width=300)\n",
    "    folium.Marker([row['latitude'], row['longitude']], popup=popup).add_to(map_locations)\n",
    "\n",
    "# Display the map\n",
    "map_locations"
   ]
  },
  {
   "cell_type": "markdown",
   "metadata": {},
   "source": [
    "From the visualization, we can derive that most airports visited during the world travels are situated in the Americas, some in Europe and even fewer in Australia.\n",
    "\n",
    "5. **Data Preparation**: I prepare the data by calculating the duration of stay at each location."
   ]
  },
  {
   "cell_type": "code",
   "execution_count": 5,
   "metadata": {},
   "outputs": [],
   "source": [
    "def create_stays_df(df):\n",
    "    # Initialize an empty list to store the new rows\n",
    "    new_data = []\n",
    "\n",
    "    # Iterate through the DataFrame\n",
    "    for i in range(len(df)-1):\n",
    "        if df.iloc[i]['departure_arrival'] == 'arrival' and df.iloc[i+1]['departure_arrival'] == 'departure':\n",
    "            new_row = {\n",
    "                'location': df.iloc[i]['location'],\n",
    "                'arrival_date': df.iloc[i]['timestamp'],\n",
    "                'departure_date': df.iloc[i+1]['timestamp']\n",
    "            }\n",
    "            new_data.append(new_row)\n",
    "\n",
    "    # Create the new DataFrame\n",
    "    new_df = pd.DataFrame(new_data)\n",
    "    return new_df\n",
    "\n",
    "# Create the new DataFrame\n",
    "df_stays = create_stays_df(df)\n",
    "\n",
    "# Split the timestamp into two columns: datetime and timezone\n",
    "df_stays[['arrival_datetime', 'arrival_timezone']] = df_stays['arrival_date'].str.rsplit(' ', n=1, expand=True)\n",
    "df_stays[['departure_datetime', 'departure_timezone']] = df_stays['departure_date'].str.rsplit(' ', n=1, expand=True)\n",
    "\n",
    "# Convert the datetime columns to datetime objects\n",
    "df_stays['arrival_datetime'] = pd.to_datetime(df_stays['arrival_datetime'])\n",
    "df_stays['departure_datetime'] = pd.to_datetime(df_stays['departure_datetime'])\n",
    "\n",
    "# Function to convert the datetime to UTC using the timezone\n",
    "def convert_to_utc(dt, tz_str):\n",
    "    tz = pytz.timezone(tz_str)\n",
    "    dt = tz.localize(dt)\n",
    "    dt_utc = dt.astimezone(pytz.utc)\n",
    "    return dt_utc\n",
    "\n",
    "# Apply the function to convert to UTC\n",
    "df_stays['arrival_utc'] = df_stays.apply(lambda row: convert_to_utc(row['arrival_datetime'], row['arrival_timezone']), axis=1)\n",
    "df_stays['departure_utc'] = df_stays.apply(lambda row: convert_to_utc(row['departure_datetime'], row['departure_timezone']), axis=1)\n",
    "\n",
    "# Compute the duration in days between each row\n",
    "df_stays['duration'] = (df_stays['departure_utc'] - df_stays['arrival_utc']).dt.total_seconds() / (3600 * 24)\n",
    "\n",
    "# Set the duration for the first row to 0\n",
    "df_stays.loc[0, 'duration'] = 0\n",
    "\n",
    "# Prepare data for plotting\n",
    "df_stays['start'] = df_stays['arrival_utc'].dt.strftime('%Y-%m-%d %H:%M:%S')\n",
    "df_stays['end'] = df_stays['departure_utc'].dt.strftime('%Y-%m-%d %H:%M:%S')\n",
    "\n",
    "# Ensure 'start' and 'end' columns are datetime objects\n",
    "df_stays['start'] = pd.to_datetime(df_stays['start'])\n",
    "df_stays['end'] = pd.to_datetime(df_stays['end'])\n",
    "\n",
    "# Prepare the data for the horizontal bar chart\n",
    "df_stays['duration'] = df_stays['end'] - df_stays['start']\n",
    "df_stays['start_str'] = df_stays['start'].astype(str)\n",
    "df_stays['end_str'] = df_stays['end'].astype(str)"
   ]
  },
  {
   "cell_type": "markdown",
   "metadata": {},
   "source": [
    "6. **Time Beam Creation**: I use Plotly to create a bar chart where each bar represents the duration of stay at a location."
   ]
  },
  {
   "cell_type": "code",
   "execution_count": 64,
   "metadata": {},
   "outputs": [],
   "source": [
    "# Create the figure\n",
    "fig = go.Figure()\n",
    "\n",
    "# Add traces to the figure\n",
    "for i, row in df_stays.iterrows():\n",
    "    duration_seconds = (row['end'] - row['start']).total_seconds()\n",
    "    fig.add_trace(go.Bar(\n",
    "        x=[''],\n",
    "        y=[duration_seconds],\n",
    "        name=row['location'],\n",
    "        orientation='v',\n",
    "        text=row['location'],\n",
    "        textposition='inside',\n",
    "        textfont=dict(size=10),\n",
    "        hoverinfo='text',\n",
    "        hovertemplate=(\n",
    "            f\"<b>Airport:</b> {row['location']}<br>\"\n",
    "            f\"<b>Arrival:</b> {row['start']}<br>\"\n",
    "            f\"<b>Departure:</b> {row['end']}<br>\"\n",
    "            \"<extra></extra>\"\n",
    "        ),\n",
    "        constraintext='inside'\n",
    "    ))\n"
   ]
  },
  {
   "cell_type": "markdown",
   "metadata": {},
   "source": [
    "7. **Customizing the Visualization**: The bars are customized with labels and tooltips to provide more information."
   ]
  },
  {
   "cell_type": "code",
   "execution_count": null,
   "metadata": {},
   "outputs": [],
   "source": [
    "# Calculate the total duration in seconds for y-axis range\n",
    "min_start = df_stays['start'].min()\n",
    "max_end = df_stays['end'].max()\n",
    "total_duration = (max_end - min_start).total_seconds()\n",
    "\n",
    "# Function to avoid overlapping dates\n",
    "def generate_tick_labels(df, min_start, threshold_days=4):\n",
    "    tickvals = []\n",
    "    ticktext = []\n",
    "    last_label_date = min_start - pd.Timedelta(days=threshold_days)\n",
    "\n",
    "    for i, row in df.iterrows():\n",
    "        start_date = row['start']\n",
    "        if (start_date - last_label_date).days >= threshold_days:\n",
    "            tickvals.append((start_date - min_start).total_seconds())\n",
    "            ticktext.append(start_date.strftime('%b %d, %Y'))\n",
    "            last_label_date = start_date\n",
    "\n",
    "    return tickvals, ticktext\n",
    "\n",
    "# Generate tick values and labels avoiding close dates\n",
    "tickvals, ticktext = generate_tick_labels(df_stays, min_start)"
   ]
  },
  {
   "cell_type": "markdown",
   "metadata": {},
   "source": [
    "8. **Displaying the Time Beam**: The time beam is displayed, showing an intuitive timeline of travel durations."
   ]
  },
  {
   "cell_type": "code",
   "execution_count": 65,
   "metadata": {},
   "outputs": [
    {
     "data": {
      "application/vnd.plotly.v1+json": {
       "config": {
        "plotlyServerURL": "https://plot.ly"
       },
       "data": [
        {
         "constraintext": "inside",
         "hoverinfo": "text",
         "hovertemplate": "<b>Airport:</b> Amsterdam Airport Schiphol, Netherlands<br><b>Arrival:</b> 2021-08-09 11:00:00<br><b>Departure:</b> 2021-08-10 09:50:00<br><extra></extra>",
         "name": "Amsterdam Airport Schiphol, Netherlands",
         "orientation": "v",
         "text": "Amsterdam Airport Schiphol, Netherlands",
         "textfont": {
          "size": 10
         },
         "textposition": "inside",
         "type": "bar",
         "x": [
          ""
         ],
         "y": [
          82200
         ]
        },
        {
         "constraintext": "inside",
         "hoverinfo": "text",
         "hovertemplate": "<b>Airport:</b> Reina Beatrix Airport, Aruba<br><b>Arrival:</b> 2021-08-10 21:30:00<br><b>Departure:</b> 2021-09-10 17:30:00<br><extra></extra>",
         "name": "Reina Beatrix Airport, Aruba",
         "orientation": "v",
         "text": "Reina Beatrix Airport, Aruba",
         "textfont": {
          "size": 10
         },
         "textposition": "inside",
         "type": "bar",
         "x": [
          ""
         ],
         "y": [
          2664000
         ]
        },
        {
         "constraintext": "inside",
         "hoverinfo": "text",
         "hovertemplate": "<b>Airport:</b> JFK Airport, New York City, USA<br><b>Arrival:</b> 2021-09-10 22:11:00<br><b>Departure:</b> 2021-09-13 14:45:00<br><extra></extra>",
         "name": "JFK Airport, New York City, USA",
         "orientation": "v",
         "text": "JFK Airport, New York City, USA",
         "textfont": {
          "size": 10
         },
         "textposition": "inside",
         "type": "bar",
         "x": [
          ""
         ],
         "y": [
          232440
         ]
        },
        {
         "constraintext": "inside",
         "hoverinfo": "text",
         "hovertemplate": "<b>Airport:</b> Montréal-Trudeau International Airport, Montréal, Canada<br><b>Arrival:</b> 2021-09-13 16:08:00<br><b>Departure:</b> 2021-11-01 17:00:00<br><extra></extra>",
         "name": "Montréal-Trudeau International Airport, Montréal, Canada",
         "orientation": "v",
         "text": "Montréal-Trudeau International Airport, Montréal, Canada",
         "textfont": {
          "size": 10
         },
         "textposition": "inside",
         "type": "bar",
         "x": [
          ""
         ],
         "y": [
          4236720
         ]
        },
        {
         "constraintext": "inside",
         "hoverinfo": "text",
         "hovertemplate": "<b>Airport:</b> Miami International Airport, USA<br><b>Arrival:</b> 2021-11-01 20:13:00<br><b>Departure:</b> 2021-11-20 00:35:00<br><extra></extra>",
         "name": "Miami International Airport, USA",
         "orientation": "v",
         "text": "Miami International Airport, USA",
         "textfont": {
          "size": 10
         },
         "textposition": "inside",
         "type": "bar",
         "x": [
          ""
         ],
         "y": [
          1570920
         ]
        },
        {
         "constraintext": "inside",
         "hoverinfo": "text",
         "hovertemplate": "<b>Airport:</b> Heathrow Airport, London, UK<br><b>Arrival:</b> 2021-11-20 09:15:00<br><b>Departure:</b> 2021-11-20 12:35:00<br><extra></extra>",
         "name": "Heathrow Airport, London, UK",
         "orientation": "v",
         "text": "Heathrow Airport, London, UK",
         "textfont": {
          "size": 10
         },
         "textposition": "inside",
         "type": "bar",
         "x": [
          ""
         ],
         "y": [
          12000
         ]
        },
        {
         "constraintext": "inside",
         "hoverinfo": "text",
         "hovertemplate": "<b>Airport:</b> Faro Airport, Portugal<br><b>Arrival:</b> 2021-11-20 15:30:00<br><b>Departure:</b> 2021-12-05 12:00:00<br><extra></extra>",
         "name": "Faro Airport, Portugal",
         "orientation": "v",
         "text": "Faro Airport, Portugal",
         "textfont": {
          "size": 10
         },
         "textposition": "inside",
         "type": "bar",
         "x": [
          ""
         ],
         "y": [
          1283400
         ]
        },
        {
         "constraintext": "inside",
         "hoverinfo": "text",
         "hovertemplate": "<b>Airport:</b> Frankfurt Airport, Germany<br><b>Arrival:</b> 2021-12-05 15:10:00<br><b>Departure:</b> 2021-12-27 16:10:00<br><extra></extra>",
         "name": "Frankfurt Airport, Germany",
         "orientation": "v",
         "text": "Frankfurt Airport, Germany",
         "textfont": {
          "size": 10
         },
         "textposition": "inside",
         "type": "bar",
         "x": [
          ""
         ],
         "y": [
          1904400
         ]
        },
        {
         "constraintext": "inside",
         "hoverinfo": "text",
         "hovertemplate": "<b>Airport:</b> Washington Dulles Airport, USA<br><b>Arrival:</b> 2021-12-28 01:40:00<br><b>Departure:</b> 2021-12-28 03:25:00<br><extra></extra>",
         "name": "Washington Dulles Airport, USA",
         "orientation": "v",
         "text": "Washington Dulles Airport, USA",
         "textfont": {
          "size": 10
         },
         "textposition": "inside",
         "type": "bar",
         "x": [
          ""
         ],
         "y": [
          6300
         ]
        },
        {
         "constraintext": "inside",
         "hoverinfo": "text",
         "hovertemplate": "<b>Airport:</b> Las Américas International Airport, Santo Domingo, Dominican Republic<br><b>Arrival:</b> 2021-12-28 07:01:00<br><b>Departure:</b> 2022-03-10 19:04:00<br><extra></extra>",
         "name": "Las Américas International Airport, Santo Domingo, Dominican Republic",
         "orientation": "v",
         "text": "Las Américas International Airport, Santo Domingo, Dominican Republic",
         "textfont": {
          "size": 10
         },
         "textposition": "inside",
         "type": "bar",
         "x": [
          ""
         ],
         "y": [
          6264180
         ]
        },
        {
         "constraintext": "inside",
         "hoverinfo": "text",
         "hovertemplate": "<b>Airport:</b> Miami International Airport, USA<br><b>Arrival:</b> 2022-03-10 21:34:00<br><b>Departure:</b> 2022-03-10 23:25:00<br><extra></extra>",
         "name": "Miami International Airport, USA",
         "orientation": "v",
         "text": "Miami International Airport, USA",
         "textfont": {
          "size": 10
         },
         "textposition": "inside",
         "type": "bar",
         "x": [
          ""
         ],
         "y": [
          6660
         ]
        },
        {
         "constraintext": "inside",
         "hoverinfo": "text",
         "hovertemplate": "<b>Airport:</b> Los Angeles International Airport, USA<br><b>Arrival:</b> 2022-03-11 05:02:00<br><b>Departure:</b> 2022-03-11 21:25:00<br><extra></extra>",
         "name": "Los Angeles International Airport, USA",
         "orientation": "v",
         "text": "Los Angeles International Airport, USA",
         "textfont": {
          "size": 10
         },
         "textposition": "inside",
         "type": "bar",
         "x": [
          ""
         ],
         "y": [
          58980
         ]
        },
        {
         "constraintext": "inside",
         "hoverinfo": "text",
         "hovertemplate": "<b>Airport:</b> Daniel K. Inouye International Airport, Honolulu, Hawaii, USA<br><b>Arrival:</b> 2022-03-12 03:39:00<br><b>Departure:</b> 2022-03-26 18:25:00<br><extra></extra>",
         "name": "Daniel K. Inouye International Airport, Honolulu, Hawaii, USA",
         "orientation": "v",
         "text": "Daniel K. Inouye International Airport, Honolulu, Hawaii, USA",
         "textfont": {
          "size": 10
         },
         "textposition": "inside",
         "type": "bar",
         "x": [
          ""
         ],
         "y": [
          1262760
         ]
        },
        {
         "constraintext": "inside",
         "hoverinfo": "text",
         "hovertemplate": "<b>Airport:</b> Sydney Airport, Australia<br><b>Arrival:</b> 2022-03-27 04:45:00<br><b>Departure:</b> 2022-04-14 04:00:00<br><extra></extra>",
         "name": "Sydney Airport, Australia",
         "orientation": "v",
         "text": "Sydney Airport, Australia",
         "textfont": {
          "size": 10
         },
         "textposition": "inside",
         "type": "bar",
         "x": [
          ""
         ],
         "y": [
          1552500
         ]
        },
        {
         "constraintext": "inside",
         "hoverinfo": "text",
         "hovertemplate": "<b>Airport:</b> Brisbane Airport, Australia<br><b>Arrival:</b> 2022-04-14 05:30:00<br><b>Departure:</b> 2022-04-17 21:35:00<br><extra></extra>",
         "name": "Brisbane Airport, Australia",
         "orientation": "v",
         "text": "Brisbane Airport, Australia",
         "textfont": {
          "size": 10
         },
         "textposition": "inside",
         "type": "bar",
         "x": [
          ""
         ],
         "y": [
          317100
         ]
        },
        {
         "constraintext": "inside",
         "hoverinfo": "text",
         "hovertemplate": "<b>Airport:</b> Cairns Airport, Australia<br><b>Arrival:</b> 2022-04-18 00:00:00<br><b>Departure:</b> 2022-05-03 07:05:00<br><extra></extra>",
         "name": "Cairns Airport, Australia",
         "orientation": "v",
         "text": "Cairns Airport, Australia",
         "textfont": {
          "size": 10
         },
         "textposition": "inside",
         "type": "bar",
         "x": [
          ""
         ],
         "y": [
          1321500
         ]
        },
        {
         "constraintext": "inside",
         "hoverinfo": "text",
         "hovertemplate": "<b>Airport:</b> Sydney Airport, Australia<br><b>Arrival:</b> 2022-05-03 08:40:00<br><b>Departure:</b> 2022-05-14 06:30:00<br><extra></extra>",
         "name": "Sydney Airport, Australia",
         "orientation": "v",
         "text": "Sydney Airport, Australia",
         "textfont": {
          "size": 10
         },
         "textposition": "inside",
         "type": "bar",
         "x": [
          ""
         ],
         "y": [
          942600
         ]
        },
        {
         "constraintext": "inside",
         "hoverinfo": "text",
         "hovertemplate": "<b>Airport:</b> Daniel K. Inouye International Airport, Honolulu, Hawaii, USA<br><b>Arrival:</b> 2022-05-14 16:00:00<br><b>Departure:</b> 2022-05-14 19:55:00<br><extra></extra>",
         "name": "Daniel K. Inouye International Airport, Honolulu, Hawaii, USA",
         "orientation": "v",
         "text": "Daniel K. Inouye International Airport, Honolulu, Hawaii, USA",
         "textfont": {
          "size": 10
         },
         "textposition": "inside",
         "type": "bar",
         "x": [
          ""
         ],
         "y": [
          14100
         ]
        },
        {
         "constraintext": "inside",
         "hoverinfo": "text",
         "hovertemplate": "<b>Airport:</b> Hilo International Airport, Hawaii, USA<br><b>Arrival:</b> 2022-05-14 20:51:00<br><b>Departure:</b> 2022-06-04 08:45:00<br><extra></extra>",
         "name": "Hilo International Airport, Hawaii, USA",
         "orientation": "v",
         "text": "Hilo International Airport, Hawaii, USA",
         "textfont": {
          "size": 10
         },
         "textposition": "inside",
         "type": "bar",
         "x": [
          ""
         ],
         "y": [
          1770840
         ]
        },
        {
         "constraintext": "inside",
         "hoverinfo": "text",
         "hovertemplate": "<b>Airport:</b> Los Angeles International Airport, USA<br><b>Arrival:</b> 2022-06-04 13:59:00<br><b>Departure:</b> 2022-06-07 17:45:00<br><extra></extra>",
         "name": "Los Angeles International Airport, USA",
         "orientation": "v",
         "text": "Los Angeles International Airport, USA",
         "textfont": {
          "size": 10
         },
         "textposition": "inside",
         "type": "bar",
         "x": [
          ""
         ],
         "y": [
          272760
         ]
        },
        {
         "constraintext": "inside",
         "hoverinfo": "text",
         "hovertemplate": "<b>Airport:</b> Cancun International Airport, Mexico<br><b>Arrival:</b> 2022-06-07 22:25:00<br><b>Departure:</b> 2022-08-06 20:33:00<br><extra></extra>",
         "name": "Cancun International Airport, Mexico",
         "orientation": "v",
         "text": "Cancun International Airport, Mexico",
         "textfont": {
          "size": 10
         },
         "textposition": "inside",
         "type": "bar",
         "x": [
          ""
         ],
         "y": [
          5177280
         ]
        },
        {
         "constraintext": "inside",
         "hoverinfo": "text",
         "hovertemplate": "<b>Airport:</b> George Bush Intercontinental Airport, Houston, USA<br><b>Arrival:</b> 2022-08-06 22:45:00<br><b>Departure:</b> 2022-08-07 01:12:00<br><extra></extra>",
         "name": "George Bush Intercontinental Airport, Houston, USA",
         "orientation": "v",
         "text": "George Bush Intercontinental Airport, Houston, USA",
         "textfont": {
          "size": 10
         },
         "textposition": "inside",
         "type": "bar",
         "x": [
          ""
         ],
         "y": [
          8820
         ]
        },
        {
         "constraintext": "inside",
         "hoverinfo": "text",
         "hovertemplate": "<b>Airport:</b> San Jose International Airport, USA<br><b>Arrival:</b> 2022-08-07 05:08:00<br><b>Departure:</b> 2022-08-12 03:35:00<br><extra></extra>",
         "name": "San Jose International Airport, USA",
         "orientation": "v",
         "text": "San Jose International Airport, USA",
         "textfont": {
          "size": 10
         },
         "textposition": "inside",
         "type": "bar",
         "x": [
          ""
         ],
         "y": [
          426420
         ]
        }
       ],
       "layout": {
        "barmode": "stack",
        "height": 1000,
        "margin": {
         "b": 0,
         "t": 40
        },
        "paper_bgcolor": "white",
        "plot_bgcolor": "white",
        "showlegend": false,
        "template": {
         "data": {
          "bar": [
           {
            "error_x": {
             "color": "#2a3f5f"
            },
            "error_y": {
             "color": "#2a3f5f"
            },
            "marker": {
             "line": {
              "color": "#E5ECF6",
              "width": 0.5
             },
             "pattern": {
              "fillmode": "overlay",
              "size": 10,
              "solidity": 0.2
             }
            },
            "type": "bar"
           }
          ],
          "barpolar": [
           {
            "marker": {
             "line": {
              "color": "#E5ECF6",
              "width": 0.5
             },
             "pattern": {
              "fillmode": "overlay",
              "size": 10,
              "solidity": 0.2
             }
            },
            "type": "barpolar"
           }
          ],
          "carpet": [
           {
            "aaxis": {
             "endlinecolor": "#2a3f5f",
             "gridcolor": "white",
             "linecolor": "white",
             "minorgridcolor": "white",
             "startlinecolor": "#2a3f5f"
            },
            "baxis": {
             "endlinecolor": "#2a3f5f",
             "gridcolor": "white",
             "linecolor": "white",
             "minorgridcolor": "white",
             "startlinecolor": "#2a3f5f"
            },
            "type": "carpet"
           }
          ],
          "choropleth": [
           {
            "colorbar": {
             "outlinewidth": 0,
             "ticks": ""
            },
            "type": "choropleth"
           }
          ],
          "contour": [
           {
            "colorbar": {
             "outlinewidth": 0,
             "ticks": ""
            },
            "colorscale": [
             [
              0,
              "#0d0887"
             ],
             [
              0.1111111111111111,
              "#46039f"
             ],
             [
              0.2222222222222222,
              "#7201a8"
             ],
             [
              0.3333333333333333,
              "#9c179e"
             ],
             [
              0.4444444444444444,
              "#bd3786"
             ],
             [
              0.5555555555555556,
              "#d8576b"
             ],
             [
              0.6666666666666666,
              "#ed7953"
             ],
             [
              0.7777777777777778,
              "#fb9f3a"
             ],
             [
              0.8888888888888888,
              "#fdca26"
             ],
             [
              1,
              "#f0f921"
             ]
            ],
            "type": "contour"
           }
          ],
          "contourcarpet": [
           {
            "colorbar": {
             "outlinewidth": 0,
             "ticks": ""
            },
            "type": "contourcarpet"
           }
          ],
          "heatmap": [
           {
            "colorbar": {
             "outlinewidth": 0,
             "ticks": ""
            },
            "colorscale": [
             [
              0,
              "#0d0887"
             ],
             [
              0.1111111111111111,
              "#46039f"
             ],
             [
              0.2222222222222222,
              "#7201a8"
             ],
             [
              0.3333333333333333,
              "#9c179e"
             ],
             [
              0.4444444444444444,
              "#bd3786"
             ],
             [
              0.5555555555555556,
              "#d8576b"
             ],
             [
              0.6666666666666666,
              "#ed7953"
             ],
             [
              0.7777777777777778,
              "#fb9f3a"
             ],
             [
              0.8888888888888888,
              "#fdca26"
             ],
             [
              1,
              "#f0f921"
             ]
            ],
            "type": "heatmap"
           }
          ],
          "heatmapgl": [
           {
            "colorbar": {
             "outlinewidth": 0,
             "ticks": ""
            },
            "colorscale": [
             [
              0,
              "#0d0887"
             ],
             [
              0.1111111111111111,
              "#46039f"
             ],
             [
              0.2222222222222222,
              "#7201a8"
             ],
             [
              0.3333333333333333,
              "#9c179e"
             ],
             [
              0.4444444444444444,
              "#bd3786"
             ],
             [
              0.5555555555555556,
              "#d8576b"
             ],
             [
              0.6666666666666666,
              "#ed7953"
             ],
             [
              0.7777777777777778,
              "#fb9f3a"
             ],
             [
              0.8888888888888888,
              "#fdca26"
             ],
             [
              1,
              "#f0f921"
             ]
            ],
            "type": "heatmapgl"
           }
          ],
          "histogram": [
           {
            "marker": {
             "pattern": {
              "fillmode": "overlay",
              "size": 10,
              "solidity": 0.2
             }
            },
            "type": "histogram"
           }
          ],
          "histogram2d": [
           {
            "colorbar": {
             "outlinewidth": 0,
             "ticks": ""
            },
            "colorscale": [
             [
              0,
              "#0d0887"
             ],
             [
              0.1111111111111111,
              "#46039f"
             ],
             [
              0.2222222222222222,
              "#7201a8"
             ],
             [
              0.3333333333333333,
              "#9c179e"
             ],
             [
              0.4444444444444444,
              "#bd3786"
             ],
             [
              0.5555555555555556,
              "#d8576b"
             ],
             [
              0.6666666666666666,
              "#ed7953"
             ],
             [
              0.7777777777777778,
              "#fb9f3a"
             ],
             [
              0.8888888888888888,
              "#fdca26"
             ],
             [
              1,
              "#f0f921"
             ]
            ],
            "type": "histogram2d"
           }
          ],
          "histogram2dcontour": [
           {
            "colorbar": {
             "outlinewidth": 0,
             "ticks": ""
            },
            "colorscale": [
             [
              0,
              "#0d0887"
             ],
             [
              0.1111111111111111,
              "#46039f"
             ],
             [
              0.2222222222222222,
              "#7201a8"
             ],
             [
              0.3333333333333333,
              "#9c179e"
             ],
             [
              0.4444444444444444,
              "#bd3786"
             ],
             [
              0.5555555555555556,
              "#d8576b"
             ],
             [
              0.6666666666666666,
              "#ed7953"
             ],
             [
              0.7777777777777778,
              "#fb9f3a"
             ],
             [
              0.8888888888888888,
              "#fdca26"
             ],
             [
              1,
              "#f0f921"
             ]
            ],
            "type": "histogram2dcontour"
           }
          ],
          "mesh3d": [
           {
            "colorbar": {
             "outlinewidth": 0,
             "ticks": ""
            },
            "type": "mesh3d"
           }
          ],
          "parcoords": [
           {
            "line": {
             "colorbar": {
              "outlinewidth": 0,
              "ticks": ""
             }
            },
            "type": "parcoords"
           }
          ],
          "pie": [
           {
            "automargin": true,
            "type": "pie"
           }
          ],
          "scatter": [
           {
            "fillpattern": {
             "fillmode": "overlay",
             "size": 10,
             "solidity": 0.2
            },
            "type": "scatter"
           }
          ],
          "scatter3d": [
           {
            "line": {
             "colorbar": {
              "outlinewidth": 0,
              "ticks": ""
             }
            },
            "marker": {
             "colorbar": {
              "outlinewidth": 0,
              "ticks": ""
             }
            },
            "type": "scatter3d"
           }
          ],
          "scattercarpet": [
           {
            "marker": {
             "colorbar": {
              "outlinewidth": 0,
              "ticks": ""
             }
            },
            "type": "scattercarpet"
           }
          ],
          "scattergeo": [
           {
            "marker": {
             "colorbar": {
              "outlinewidth": 0,
              "ticks": ""
             }
            },
            "type": "scattergeo"
           }
          ],
          "scattergl": [
           {
            "marker": {
             "colorbar": {
              "outlinewidth": 0,
              "ticks": ""
             }
            },
            "type": "scattergl"
           }
          ],
          "scattermapbox": [
           {
            "marker": {
             "colorbar": {
              "outlinewidth": 0,
              "ticks": ""
             }
            },
            "type": "scattermapbox"
           }
          ],
          "scatterpolar": [
           {
            "marker": {
             "colorbar": {
              "outlinewidth": 0,
              "ticks": ""
             }
            },
            "type": "scatterpolar"
           }
          ],
          "scatterpolargl": [
           {
            "marker": {
             "colorbar": {
              "outlinewidth": 0,
              "ticks": ""
             }
            },
            "type": "scatterpolargl"
           }
          ],
          "scatterternary": [
           {
            "marker": {
             "colorbar": {
              "outlinewidth": 0,
              "ticks": ""
             }
            },
            "type": "scatterternary"
           }
          ],
          "surface": [
           {
            "colorbar": {
             "outlinewidth": 0,
             "ticks": ""
            },
            "colorscale": [
             [
              0,
              "#0d0887"
             ],
             [
              0.1111111111111111,
              "#46039f"
             ],
             [
              0.2222222222222222,
              "#7201a8"
             ],
             [
              0.3333333333333333,
              "#9c179e"
             ],
             [
              0.4444444444444444,
              "#bd3786"
             ],
             [
              0.5555555555555556,
              "#d8576b"
             ],
             [
              0.6666666666666666,
              "#ed7953"
             ],
             [
              0.7777777777777778,
              "#fb9f3a"
             ],
             [
              0.8888888888888888,
              "#fdca26"
             ],
             [
              1,
              "#f0f921"
             ]
            ],
            "type": "surface"
           }
          ],
          "table": [
           {
            "cells": {
             "fill": {
              "color": "#EBF0F8"
             },
             "line": {
              "color": "white"
             }
            },
            "header": {
             "fill": {
              "color": "#C8D4E3"
             },
             "line": {
              "color": "white"
             }
            },
            "type": "table"
           }
          ]
         },
         "layout": {
          "annotationdefaults": {
           "arrowcolor": "#2a3f5f",
           "arrowhead": 0,
           "arrowwidth": 1
          },
          "autotypenumbers": "strict",
          "coloraxis": {
           "colorbar": {
            "outlinewidth": 0,
            "ticks": ""
           }
          },
          "colorscale": {
           "diverging": [
            [
             0,
             "#8e0152"
            ],
            [
             0.1,
             "#c51b7d"
            ],
            [
             0.2,
             "#de77ae"
            ],
            [
             0.3,
             "#f1b6da"
            ],
            [
             0.4,
             "#fde0ef"
            ],
            [
             0.5,
             "#f7f7f7"
            ],
            [
             0.6,
             "#e6f5d0"
            ],
            [
             0.7,
             "#b8e186"
            ],
            [
             0.8,
             "#7fbc41"
            ],
            [
             0.9,
             "#4d9221"
            ],
            [
             1,
             "#276419"
            ]
           ],
           "sequential": [
            [
             0,
             "#0d0887"
            ],
            [
             0.1111111111111111,
             "#46039f"
            ],
            [
             0.2222222222222222,
             "#7201a8"
            ],
            [
             0.3333333333333333,
             "#9c179e"
            ],
            [
             0.4444444444444444,
             "#bd3786"
            ],
            [
             0.5555555555555556,
             "#d8576b"
            ],
            [
             0.6666666666666666,
             "#ed7953"
            ],
            [
             0.7777777777777778,
             "#fb9f3a"
            ],
            [
             0.8888888888888888,
             "#fdca26"
            ],
            [
             1,
             "#f0f921"
            ]
           ],
           "sequentialminus": [
            [
             0,
             "#0d0887"
            ],
            [
             0.1111111111111111,
             "#46039f"
            ],
            [
             0.2222222222222222,
             "#7201a8"
            ],
            [
             0.3333333333333333,
             "#9c179e"
            ],
            [
             0.4444444444444444,
             "#bd3786"
            ],
            [
             0.5555555555555556,
             "#d8576b"
            ],
            [
             0.6666666666666666,
             "#ed7953"
            ],
            [
             0.7777777777777778,
             "#fb9f3a"
            ],
            [
             0.8888888888888888,
             "#fdca26"
            ],
            [
             1,
             "#f0f921"
            ]
           ]
          },
          "colorway": [
           "#636efa",
           "#EF553B",
           "#00cc96",
           "#ab63fa",
           "#FFA15A",
           "#19d3f3",
           "#FF6692",
           "#B6E880",
           "#FF97FF",
           "#FECB52"
          ],
          "font": {
           "color": "#2a3f5f"
          },
          "geo": {
           "bgcolor": "white",
           "lakecolor": "white",
           "landcolor": "#E5ECF6",
           "showlakes": true,
           "showland": true,
           "subunitcolor": "white"
          },
          "hoverlabel": {
           "align": "left"
          },
          "hovermode": "closest",
          "mapbox": {
           "style": "light"
          },
          "paper_bgcolor": "white",
          "plot_bgcolor": "#E5ECF6",
          "polar": {
           "angularaxis": {
            "gridcolor": "white",
            "linecolor": "white",
            "ticks": ""
           },
           "bgcolor": "#E5ECF6",
           "radialaxis": {
            "gridcolor": "white",
            "linecolor": "white",
            "ticks": ""
           }
          },
          "scene": {
           "xaxis": {
            "backgroundcolor": "#E5ECF6",
            "gridcolor": "white",
            "gridwidth": 2,
            "linecolor": "white",
            "showbackground": true,
            "ticks": "",
            "zerolinecolor": "white"
           },
           "yaxis": {
            "backgroundcolor": "#E5ECF6",
            "gridcolor": "white",
            "gridwidth": 2,
            "linecolor": "white",
            "showbackground": true,
            "ticks": "",
            "zerolinecolor": "white"
           },
           "zaxis": {
            "backgroundcolor": "#E5ECF6",
            "gridcolor": "white",
            "gridwidth": 2,
            "linecolor": "white",
            "showbackground": true,
            "ticks": "",
            "zerolinecolor": "white"
           }
          },
          "shapedefaults": {
           "line": {
            "color": "#2a3f5f"
           }
          },
          "ternary": {
           "aaxis": {
            "gridcolor": "white",
            "linecolor": "white",
            "ticks": ""
           },
           "baxis": {
            "gridcolor": "white",
            "linecolor": "white",
            "ticks": ""
           },
           "bgcolor": "#E5ECF6",
           "caxis": {
            "gridcolor": "white",
            "linecolor": "white",
            "ticks": ""
           }
          },
          "title": {
           "x": 0.05
          },
          "xaxis": {
           "automargin": true,
           "gridcolor": "white",
           "linecolor": "white",
           "ticks": "",
           "title": {
            "standoff": 15
           },
           "zerolinecolor": "white",
           "zerolinewidth": 2
          },
          "yaxis": {
           "automargin": true,
           "gridcolor": "white",
           "linecolor": "white",
           "ticks": "",
           "title": {
            "standoff": 15
           },
           "zerolinecolor": "white",
           "zerolinewidth": 2
          }
         }
        },
        "title": {
         "text": "Time Beam of Airports"
        },
        "width": 600,
        "xaxis": {
         "showgrid": false,
         "showticklabels": false,
         "title": {
          "text": ""
         }
        },
        "yaxis": {
         "autorange": "reversed",
         "showticklabels": true,
         "ticktext": [
          "Aug 09, 2021",
          "Sep 10, 2021",
          "Nov 01, 2021",
          "Nov 20, 2021",
          "Dec 05, 2021",
          "Dec 28, 2021",
          "Mar 10, 2022",
          "Mar 27, 2022",
          "Apr 14, 2022",
          "May 03, 2022",
          "May 14, 2022",
          "Jun 04, 2022",
          "Aug 06, 2022"
         ],
         "tickvals": [
          0,
          2805060,
          7290780,
          8892900,
          10210200,
          12148800,
          18441240,
          19849500,
          21407400,
          23060400,
          24037200,
          25844340,
          31319100
         ],
         "title": {
          "text": "Timeline"
         }
        }
       }
      }
     },
     "metadata": {},
     "output_type": "display_data"
    }
   ],
   "source": [
    "# Update layout to remove the legend and customize the x-axis labels\n",
    "fig.update_layout(\n",
    "    title=\"Time Beam of Airports\",\n",
    "    yaxis=dict(\n",
    "        title='Timeline',\n",
    "        tickvals=tickvals,\n",
    "        ticktext=ticktext,\n",
    "        showticklabels=True,\n",
    "        autorange=\"reversed\",\n",
    "    ),\n",
    "    xaxis=dict(\n",
    "        title='',\n",
    "        showticklabels=False,\n",
    "        showgrid=False\n",
    "    ),\n",
    "    margin=dict(t=40, b=0),\n",
    "    showlegend=False,\n",
    "    barmode='stack',\n",
    "    height=1000,\n",
    "    width=600,\n",
    "    paper_bgcolor='white',\n",
    "    plot_bgcolor='white'\n",
    ")\n",
    "\n",
    "# Show the figure\n",
    "fig.show()"
   ]
  },
  {
   "cell_type": "markdown",
   "metadata": {},
   "source": [
    "From the chart, it can be deducted that the longest stays were in the Dominican Republic, Mexico and Canada. There was also a longer stay in Australia which included some domestic flights to Brisbane and Cairns.\n",
    "\n",
    "## Conclusion\n",
    "In this notebook, I demonstrated how to visualize airport locations on an interactive map using Folium and how to create a time beam to represent the duration of stays using Plotly. These visualizations provide an intuitive way to explore travel data. The interactive map allows users to see the geographical spread of travel destinations, while the time beam offers a clear timeline of travel durations. This combination of tools can be particularly useful to visualize longer travels and travels which consists of several countries."
   ]
  }
 ],
 "metadata": {
  "kernelspec": {
   "display_name": "base",
   "language": "python",
   "name": "python3"
  },
  "language_info": {
   "codemirror_mode": {
    "name": "ipython",
    "version": 3
   },
   "file_extension": ".py",
   "mimetype": "text/x-python",
   "name": "python",
   "nbconvert_exporter": "python",
   "pygments_lexer": "ipython3",
   "version": "3.11.5"
  }
 },
 "nbformat": 4,
 "nbformat_minor": 2
}
